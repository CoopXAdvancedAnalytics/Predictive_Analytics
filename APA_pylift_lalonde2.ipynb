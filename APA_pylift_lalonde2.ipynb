{
 "cells": [
  {
   "cell_type": "code",
   "execution_count": 4,
   "metadata": {},
   "outputs": [],
   "source": [
    "import pandas as pd \n",
    "import numpy as np \n",
    "import matplotlib as mpl\n",
    "import  matplotlib.pyplot as plt\n",
    "from pylift import TransformedOutcome\n",
    "pd.set_option('display.max_colwidth', None)"
   ]
  },
  {
   "cell_type": "markdown",
   "metadata": {},
   "source": [
    "<h2> Data </h2>  To explore the features of the pylift  package data from \n",
    "Lalonde dataset which was used to evaluate propensity score in the paper:\n",
    "\n",
    "Dehejia, R., & Wahba, S. (1999). Causal Effects in Nonexperimental Studies: Reevaluating the Evaluation of Training Programs. Journal of the American Statistical Association, 94(448), 1053-1062. doi:10.2307/2669919\n",
    "\n",
    "http://sekhon.berkeley.edu/matching/lalonde.html\n",
    "\n"
   ]
  },
  {
   "cell_type": "markdown",
   "metadata": {},
   "source": [
    "<h2>Data Preparation </h2>\n",
    "We read in the data in the same was as suggested by the authors of the pylift package. The dataset was suggested for the purpose of the package exploration.  \n",
    "\n",
    "The treatment and control group data is avaible separatly therefore the two datasets need to be concatinated. "
   ]
  },
  {
   "cell_type": "code",
   "execution_count": 5,
   "metadata": {},
   "outputs": [],
   "source": [
    "cols = ['treat', 'age', 'educ', 'black', 'hisp', 'married', 'nodegr','re74','re75','re78']\n",
    "\n",
    "control_df = pd.read_csv('http://www.nber.org/~rdehejia/data/nswre74_control.txt', sep='\\s+', header = None, names = cols)\n",
    "\n",
    "treated_df = pd.read_csv('http://www.nber.org/~rdehejia/data/nswre74_treated.txt', sep='\\s+', header = None, names = cols)\n",
    "\n",
    "lalonde_df = pd.concat([control_df, treated_df], ignore_index=True)\n"
   ]
  },
  {
   "cell_type": "markdown",
   "metadata": {},
   "source": [
    "The earnings from 1974 ($re74$) and 1975 ($re75$) are reported in real value. For the analysis we interested in whether person had any earning in those years or not. Therefore we create two dummy variables. The same approach is used for the outcome of interest, which is real earnings in 1978 ($re78$). "
   ]
  },
  {
   "cell_type": "code",
   "execution_count": 6,
   "metadata": {},
   "outputs": [],
   "source": [
    "lalonde_df['u74'] = np.where(lalonde_df['re74'] == 0, 1.0, 0.0) \n",
    "lalonde_df['u75'] = np.where(lalonde_df['re75'] == 0, 1.0, 0.0)\n",
    "\n",
    "df = lalonde_df[['nodegr', 'black', 'hisp', 'age', 'educ', 'married', 'u74', 'u75', 'treat', 're78']].copy()\n",
    "\n",
    "df.rename(columns={'treat':'Treatment', 're78':'Outcome'}, inplace=True)\n",
    "\n",
    "df['Outcome'] = np.where(df['Outcome'] > 0, 1.0, 0.0)"
   ]
  },
  {
   "cell_type": "markdown",
   "metadata": {},
   "source": [
    "<h2>Data Exploration </h2>"
   ]
  },
  {
   "cell_type": "code",
   "execution_count": 8,
   "metadata": {},
   "outputs": [
    {
     "output_type": "execute_result",
     "data": {
      "text/plain": "           nodegr       black       hisp         age        educ     married  \\\ncount  445.000000  445.000000  445.00000  445.000000  445.000000  445.000000   \nmean     0.782022    0.833708    0.08764   25.370787   10.195506    0.168539   \nstd      0.413337    0.372762    0.28309    7.100282    1.792119    0.374766   \nmin      0.000000    0.000000    0.00000   17.000000    3.000000    0.000000   \n25%      1.000000    1.000000    0.00000   20.000000    9.000000    0.000000   \n50%      1.000000    1.000000    0.00000   24.000000   10.000000    0.000000   \n75%      1.000000    1.000000    0.00000   28.000000   11.000000    0.000000   \nmax      1.000000    1.000000    1.00000   55.000000   16.000000    1.000000   \n\n              u74         u75   Treatment     Outcome  \ncount  445.000000  445.000000  445.000000  445.000000  \nmean     0.732584    0.649438    0.415730    0.692135  \nstd      0.443109    0.477683    0.493402    0.462130  \nmin      0.000000    0.000000    0.000000    0.000000  \n25%      0.000000    0.000000    0.000000    0.000000  \n50%      1.000000    1.000000    0.000000    1.000000  \n75%      1.000000    1.000000    1.000000    1.000000  \nmax      1.000000    1.000000    1.000000    1.000000  ",
      "text/html": "<div>\n<style scoped>\n    .dataframe tbody tr th:only-of-type {\n        vertical-align: middle;\n    }\n\n    .dataframe tbody tr th {\n        vertical-align: top;\n    }\n\n    .dataframe thead th {\n        text-align: right;\n    }\n</style>\n<table border=\"1\" class=\"dataframe\">\n  <thead>\n    <tr style=\"text-align: right;\">\n      <th></th>\n      <th>nodegr</th>\n      <th>black</th>\n      <th>hisp</th>\n      <th>age</th>\n      <th>educ</th>\n      <th>married</th>\n      <th>u74</th>\n      <th>u75</th>\n      <th>Treatment</th>\n      <th>Outcome</th>\n    </tr>\n  </thead>\n  <tbody>\n    <tr>\n      <th>count</th>\n      <td>445.000000</td>\n      <td>445.000000</td>\n      <td>445.00000</td>\n      <td>445.000000</td>\n      <td>445.000000</td>\n      <td>445.000000</td>\n      <td>445.000000</td>\n      <td>445.000000</td>\n      <td>445.000000</td>\n      <td>445.000000</td>\n    </tr>\n    <tr>\n      <th>mean</th>\n      <td>0.782022</td>\n      <td>0.833708</td>\n      <td>0.08764</td>\n      <td>25.370787</td>\n      <td>10.195506</td>\n      <td>0.168539</td>\n      <td>0.732584</td>\n      <td>0.649438</td>\n      <td>0.415730</td>\n      <td>0.692135</td>\n    </tr>\n    <tr>\n      <th>std</th>\n      <td>0.413337</td>\n      <td>0.372762</td>\n      <td>0.28309</td>\n      <td>7.100282</td>\n      <td>1.792119</td>\n      <td>0.374766</td>\n      <td>0.443109</td>\n      <td>0.477683</td>\n      <td>0.493402</td>\n      <td>0.462130</td>\n    </tr>\n    <tr>\n      <th>min</th>\n      <td>0.000000</td>\n      <td>0.000000</td>\n      <td>0.00000</td>\n      <td>17.000000</td>\n      <td>3.000000</td>\n      <td>0.000000</td>\n      <td>0.000000</td>\n      <td>0.000000</td>\n      <td>0.000000</td>\n      <td>0.000000</td>\n    </tr>\n    <tr>\n      <th>25%</th>\n      <td>1.000000</td>\n      <td>1.000000</td>\n      <td>0.00000</td>\n      <td>20.000000</td>\n      <td>9.000000</td>\n      <td>0.000000</td>\n      <td>0.000000</td>\n      <td>0.000000</td>\n      <td>0.000000</td>\n      <td>0.000000</td>\n    </tr>\n    <tr>\n      <th>50%</th>\n      <td>1.000000</td>\n      <td>1.000000</td>\n      <td>0.00000</td>\n      <td>24.000000</td>\n      <td>10.000000</td>\n      <td>0.000000</td>\n      <td>1.000000</td>\n      <td>1.000000</td>\n      <td>0.000000</td>\n      <td>1.000000</td>\n    </tr>\n    <tr>\n      <th>75%</th>\n      <td>1.000000</td>\n      <td>1.000000</td>\n      <td>0.00000</td>\n      <td>28.000000</td>\n      <td>11.000000</td>\n      <td>0.000000</td>\n      <td>1.000000</td>\n      <td>1.000000</td>\n      <td>1.000000</td>\n      <td>1.000000</td>\n    </tr>\n    <tr>\n      <th>max</th>\n      <td>1.000000</td>\n      <td>1.000000</td>\n      <td>1.00000</td>\n      <td>55.000000</td>\n      <td>16.000000</td>\n      <td>1.000000</td>\n      <td>1.000000</td>\n      <td>1.000000</td>\n      <td>1.000000</td>\n      <td>1.000000</td>\n    </tr>\n  </tbody>\n</table>\n</div>"
     },
     "metadata": {},
     "execution_count": 8
    }
   ],
   "source": [
    "df.head()\n",
    "df.describe()"
   ]
  },
  {
   "cell_type": "code",
   "execution_count": 13,
   "metadata": {},
   "outputs": [
    {
     "output_type": "execute_result",
     "data": {
      "text/plain": "Treatment  0.0  1.0  Total\nOutcome                   \n0.0         92   45    137\n1.0        168  140    308\nTotal      260  185    445",
      "text/html": "<div>\n<style scoped>\n    .dataframe tbody tr th:only-of-type {\n        vertical-align: middle;\n    }\n\n    .dataframe tbody tr th {\n        vertical-align: top;\n    }\n\n    .dataframe thead th {\n        text-align: right;\n    }\n</style>\n<table border=\"1\" class=\"dataframe\">\n  <thead>\n    <tr style=\"text-align: right;\">\n      <th>Treatment</th>\n      <th>0.0</th>\n      <th>1.0</th>\n      <th>Total</th>\n    </tr>\n    <tr>\n      <th>Outcome</th>\n      <th></th>\n      <th></th>\n      <th></th>\n    </tr>\n  </thead>\n  <tbody>\n    <tr>\n      <th>0.0</th>\n      <td>92</td>\n      <td>45</td>\n      <td>137</td>\n    </tr>\n    <tr>\n      <th>1.0</th>\n      <td>168</td>\n      <td>140</td>\n      <td>308</td>\n    </tr>\n    <tr>\n      <th>Total</th>\n      <td>260</td>\n      <td>185</td>\n      <td>445</td>\n    </tr>\n  </tbody>\n</table>\n</div>"
     },
     "metadata": {},
     "execution_count": 13
    }
   ],
   "source": [
    "pd.crosstab(df['Outcome'], df['Treatment'], margins = True, margins_name= \"Total\")"
   ]
  },
  {
   "cell_type": "code",
   "execution_count": 14,
   "metadata": {},
   "outputs": [
    {
     "output_type": "execute_result",
     "data": {
      "text/plain": "Treatment       0.0       1.0     Total\nOutcome                                \n0.0        0.206742  0.101124  0.307865\n1.0        0.377528  0.314607  0.692135\nTotal      0.584270  0.415730  1.000000",
      "text/html": "<div>\n<style scoped>\n    .dataframe tbody tr th:only-of-type {\n        vertical-align: middle;\n    }\n\n    .dataframe tbody tr th {\n        vertical-align: top;\n    }\n\n    .dataframe thead th {\n        text-align: right;\n    }\n</style>\n<table border=\"1\" class=\"dataframe\">\n  <thead>\n    <tr style=\"text-align: right;\">\n      <th>Treatment</th>\n      <th>0.0</th>\n      <th>1.0</th>\n      <th>Total</th>\n    </tr>\n    <tr>\n      <th>Outcome</th>\n      <th></th>\n      <th></th>\n      <th></th>\n    </tr>\n  </thead>\n  <tbody>\n    <tr>\n      <th>0.0</th>\n      <td>0.206742</td>\n      <td>0.101124</td>\n      <td>0.307865</td>\n    </tr>\n    <tr>\n      <th>1.0</th>\n      <td>0.377528</td>\n      <td>0.314607</td>\n      <td>0.692135</td>\n    </tr>\n    <tr>\n      <th>Total</th>\n      <td>0.584270</td>\n      <td>0.415730</td>\n      <td>1.000000</td>\n    </tr>\n  </tbody>\n</table>\n</div>"
     },
     "metadata": {},
     "execution_count": 14
    }
   ],
   "source": [
    "pd.crosstab(df['Outcome'], df['Treatment'], margins = True, margins_name= \"Total\", normalize= True)"
   ]
  },
  {
   "cell_type": "markdown",
   "metadata": {},
   "source": [
    "<h2> Uplift Modeling </h2>\n",
    "For the Uplift modelling we have chosen two methods : \n"
   ]
  },
  {
   "cell_type": "code",
   "execution_count": 17,
   "metadata": {},
   "outputs": [
    {
     "output_type": "stream",
     "name": "stdout",
     "text": "Fitting 5 folds for each of 20 candidates, totalling 100 fits\n[Parallel(n_jobs=10)]: Using backend LokyBackend with 10 concurrent workers.\n[Parallel(n_jobs=10)]: Done  12 tasks      | elapsed:    3.8s\n[Parallel(n_jobs=10)]: Done  81 out of 100 | elapsed:    4.5s remaining:    1.0s\n[Parallel(n_jobs=10)]: Done 100 out of 100 | elapsed:    4.6s finished\nSeed 0 finished.\nSeed 1 finished.\nSeed 2 finished.\nSeed 3 finished.\nSeed 4 finished.\n"
    },
    {
     "output_type": "execute_result",
     "data": {
      "text/plain": "{0: <pylift.methods.derivatives.TransformedOutcome at 0x11fc6e4c0>,\n 1: <pylift.methods.derivatives.TransformedOutcome at 0x11ef75610>,\n 2: <pylift.methods.derivatives.TransformedOutcome at 0x12003e730>,\n 3: <pylift.methods.derivatives.TransformedOutcome at 0x120036130>,\n 4: <pylift.methods.derivatives.TransformedOutcome at 0x1200457c0>}"
     },
     "metadata": {},
     "execution_count": 17
    }
   ],
   "source": [
    "uplift = TransformedOutcome(df, col_treatment='Treatment', col_outcome='Outcome', stratify=df['Treatment'])\n",
    "\n",
    "uplift.randomized_search(n_iter=20, n_jobs=10, random_state=1)\n",
    "\n",
    "uplift.shuffle_fit(params=up.rand_search_.best_params_, nthread=30, iterations=5)"
   ]
  },
  {
   "cell_type": "code",
   "execution_count": 16,
   "metadata": {},
   "outputs": [
    {
     "output_type": "execute_result",
     "data": {
      "text/plain": "<pylift.methods.derivatives.TransformedOutcome at 0x12048b100>"
     },
     "metadata": {},
     "execution_count": 16
    }
   ],
   "source": [
    "uplift.plot(show_shuffle_fits=True)"
   ]
  },
  {
   "cell_type": "code",
   "execution_count": null,
   "metadata": {},
   "outputs": [],
   "source": []
  }
 ],
 "metadata": {
  "language_info": {
   "codemirror_mode": {
    "name": "ipython",
    "version": 3
   },
   "file_extension": ".py",
   "mimetype": "text/x-python",
   "name": "python",
   "nbconvert_exporter": "python",
   "pygments_lexer": "ipython3",
   "version": "3.8.1-final"
  },
  "orig_nbformat": 2,
  "kernelspec": {
   "name": "python38164bitb8f2fd87a57e47eb8de194bafcbebe82",
   "display_name": "Python 3.8.1 64-bit"
  }
 },
 "nbformat": 4,
 "nbformat_minor": 2
}