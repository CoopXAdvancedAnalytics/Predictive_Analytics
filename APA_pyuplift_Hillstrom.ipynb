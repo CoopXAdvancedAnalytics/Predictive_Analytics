{
 "cells": [
  {
   "cell_type": "code",
   "execution_count": 5,
   "metadata": {},
   "outputs": [],
   "source": [
    "import pyuplift\n",
    "import numpy as np \n",
    "import pandas as pd \n",
    "import seaborn as sns\n",
    "\n",
    "from pyuplift.variable_selection import Econometric\n",
    "from pyuplift.datasets import load_hillstrom_email_marketing\n",
    "from pyuplift.model_selection import train_test_split"
   ]
  },
  {
   "cell_type": "markdown",
   "metadata": {},
   "source": [
    "Load the hillstrom dataset "
   ]
  },
  {
   "cell_type": "code",
   "execution_count": 6,
   "metadata": {},
   "outputs": [
    {
     "output_type": "stream",
     "name": "stdout",
     "text": "Downloading file to '/Library/Frameworks/Python.framework/Versions/3.8/lib/python3.8/site-packages/pyuplift/datasets/loaders/data/hillstrom_email_marketing.csv'...\n"
    }
   ],
   "source": [
    "data = load_hillstrom_email_marketing(load_raw_data=False)"
   ]
  },
  {
   "cell_type": "markdown",
   "metadata": {},
   "source": [
    "Look first at the Mens email vs control group"
   ]
  },
  {
   "cell_type": "code",
   "execution_count": 7,
   "metadata": {},
   "outputs": [],
   "source": [
    "ex_womens_indexes = data['treatment'] != 2"
   ]
  },
  {
   "cell_type": "markdown",
   "metadata": {},
   "source": [
    "Assign data to the model variables "
   ]
  },
  {
   "cell_type": "code",
   "execution_count": 8,
   "metadata": {},
   "outputs": [],
   "source": [
    "X = data['data'][ex_womens_indexes]\n",
    "y = data['target'][ex_womens_indexes]\n",
    "t = data['treatment'][ex_womens_indexes]"
   ]
  },
  {
   "cell_type": "markdown",
   "metadata": {},
   "source": [
    "Conduct split between train and test set (70% vs 30%)"
   ]
  },
  {
   "cell_type": "code",
   "execution_count": 9,
   "metadata": {},
   "outputs": [],
   "source": [
    "X_train, X_test, y_train, y_test, t_train, t_test = train_test_split(X, y, t, train_share=0.7, random_state=123)"
   ]
  },
  {
   "cell_type": "markdown",
   "metadata": {},
   "source": [
    "Build the model & fit the data to the model "
   ]
  },
  {
   "cell_type": "code",
   "execution_count": 10,
   "metadata": {},
   "outputs": [
    {
     "output_type": "execute_result",
     "data": {
      "text/plain": "<pyuplift.variable_selection.econometric.Econometric at 0x1292f5bb0>"
     },
     "metadata": {},
     "execution_count": 10
    }
   ],
   "source": [
    "model = Econometric()\n",
    "model.fit(X_train, y_train, t_train)"
   ]
  },
  {
   "cell_type": "markdown",
   "metadata": {},
   "source": [
    "Predict uplift fot the test data and print top 30 values"
   ]
  },
  {
   "cell_type": "code",
   "execution_count": 12,
   "metadata": {},
   "outputs": [
    {
     "output_type": "execute_result",
     "data": {
      "text/plain": "array([1.0615553 , 0.41391224, 0.26028002, 2.09681851, 0.42625385,\n       1.94064929, 2.50369232, 0.52225684, 0.17712341, 0.91999936,\n       0.54780214, 0.27353447, 0.74778451, 0.77815588, 0.89413281,\n       0.50344916, 0.5541491 , 1.19713328, 1.62508446, 2.72094539,\n       0.58734909, 1.02091314, 0.38130238, 1.95440454, 0.31563277,\n       0.45444723, 3.12253941, 0.22135587, 0.36594898, 0.46307355])"
     },
     "metadata": {},
     "execution_count": 12
    }
   ],
   "source": [
    "uplift = model.predict(X_test)\n",
    "uplift[:30]"
   ]
  },
  {
   "cell_type": "code",
   "execution_count": null,
   "metadata": {},
   "outputs": [],
   "source": []
  }
 ],
 "metadata": {
  "language_info": {
   "codemirror_mode": {
    "name": "ipython",
    "version": 3
   },
   "file_extension": ".py",
   "mimetype": "text/x-python",
   "name": "python",
   "nbconvert_exporter": "python",
   "pygments_lexer": "ipython3",
   "version": "3.8.1-final"
  },
  "orig_nbformat": 2,
  "kernelspec": {
   "name": "python38164bitb8f2fd87a57e47eb8de194bafcbebe82",
   "display_name": "Python 3.8.1 64-bit"
  }
 },
 "nbformat": 4,
 "nbformat_minor": 2
}