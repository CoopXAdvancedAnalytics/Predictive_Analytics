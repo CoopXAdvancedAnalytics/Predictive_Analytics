{
 "cells": [
  {
   "cell_type": "code",
   "execution_count": 2,
   "metadata": {},
   "outputs": [],
   "source": [
    "import pandas as pd \n",
    "import numpy as np \n",
    "import matplotlib as mpl\n",
    "import  matplotlib.pyplot as plt\n",
    "from pylift import TransformedOutcome\n",
    "pd.set_option('display.max_colwidth', None)"
   ]
  },
  {
   "cell_type": "markdown",
   "metadata": {},
   "source": [
    "<h2> Data </h2>  To explore the features of the pylift  package data from \n",
    "Lalonde dataset which was used to evaluate propensity score in the paper:\n",
    "\n",
    "Dehejia, R., & Wahba, S. (1999). Causal Effects in Nonexperimental Studies: Reevaluating the Evaluation of Training Programs. Journal of the American Statistical Association, 94(448), 1053-1062. doi:10.2307/2669919\n",
    "\n",
    "http://sekhon.berkeley.edu/matching/lalonde.html\n",
    "\n"
   ]
  },
  {
   "cell_type": "markdown",
   "metadata": {},
   "source": [
    "<h2>Data Preparation </h2>\n",
    "We read in the data in the same was as suggested by the authors of the pylift package. The dataset was suggested for the purpose of the package exploration.  \n",
    "\n",
    "The treatment and control group data is avaible separatly therefore the two datasets need to be concatinated. "
   ]
  },
  {
   "cell_type": "code",
   "execution_count": 4,
   "metadata": {},
   "outputs": [],
   "source": [
    "cols = ['treat', 'age', 'educ', 'black', 'hisp', 'married', 'nodegr','re74','re75','re78']\n",
    "\n",
    "control_df = pd.read_csv('http://www.nber.org/~rdehejia/data/nswre74_control.txt', sep='\\s+', header = None, names = cols)\n",
    "\n",
    "treated_df = pd.read_csv('http://www.nber.org/~rdehejia/data/nswre74_treated.txt', sep='\\s+', header = None, names = cols)\n",
    "\n",
    "lalonde_df = pd.concat([control_df, treated_df], ignore_index=True)\n"
   ]
  },
  {
   "cell_type": "markdown",
   "metadata": {},
   "source": [
    "The earnings from 1974 ($re74$) and 1975 ($re75$) are reported in real value. For the analysis we interested in whether person had any earning in those years or not. Therefore we create two dummy variables. The same approach is used for the outcome of interest, which is real earnings in 1978 ($re78$). "
   ]
  },
  {
   "cell_type": "code",
   "execution_count": 6,
   "metadata": {},
   "outputs": [],
   "source": [
    "lalonde_df['u74'] = np.where(lalonde_df['re74'] == 0, 1.0, 0.0) \n",
    "lalonde_df['u75'] = np.where(lalonde_df['re75'] == 0, 1.0, 0.0)\n",
    "\n",
    "df = lalonde_df[['nodegr', 'black', 'hisp', 'age', 'educ', 'married', 'u74', 'u75', 'treat', 're78']].copy()\n",
    "\n",
    "df.rename(columns={'treat':'Treatment', 're78':'Outcome'}, inplace=True)\n",
    "\n",
    "df['Outcome'] = np.where(df['Outcome'] > 0, 1.0, 0.0)"
   ]
  },
  {
   "cell_type": "code",
   "execution_count": 8,
   "metadata": {},
   "outputs": [
    {
     "output_type": "execute_result",
     "data": {
      "text/plain": "           nodegr       black       hisp         age        educ     married  \\\ncount  445.000000  445.000000  445.00000  445.000000  445.000000  445.000000   \nmean     0.782022    0.833708    0.08764   25.370787   10.195506    0.168539   \nstd      0.413337    0.372762    0.28309    7.100282    1.792119    0.374766   \nmin      0.000000    0.000000    0.00000   17.000000    3.000000    0.000000   \n25%      1.000000    1.000000    0.00000   20.000000    9.000000    0.000000   \n50%      1.000000    1.000000    0.00000   24.000000   10.000000    0.000000   \n75%      1.000000    1.000000    0.00000   28.000000   11.000000    0.000000   \nmax      1.000000    1.000000    1.00000   55.000000   16.000000    1.000000   \n\n              u74         u75   Treatment     Outcome  \ncount  445.000000  445.000000  445.000000  445.000000  \nmean     0.732584    0.649438    0.415730    0.692135  \nstd      0.443109    0.477683    0.493402    0.462130  \nmin      0.000000    0.000000    0.000000    0.000000  \n25%      0.000000    0.000000    0.000000    0.000000  \n50%      1.000000    1.000000    0.000000    1.000000  \n75%      1.000000    1.000000    1.000000    1.000000  \nmax      1.000000    1.000000    1.000000    1.000000  ",
      "text/html": "<div>\n<style scoped>\n    .dataframe tbody tr th:only-of-type {\n        vertical-align: middle;\n    }\n\n    .dataframe tbody tr th {\n        vertical-align: top;\n    }\n\n    .dataframe thead th {\n        text-align: right;\n    }\n</style>\n<table border=\"1\" class=\"dataframe\">\n  <thead>\n    <tr style=\"text-align: right;\">\n      <th></th>\n      <th>nodegr</th>\n      <th>black</th>\n      <th>hisp</th>\n      <th>age</th>\n      <th>educ</th>\n      <th>married</th>\n      <th>u74</th>\n      <th>u75</th>\n      <th>Treatment</th>\n      <th>Outcome</th>\n    </tr>\n  </thead>\n  <tbody>\n    <tr>\n      <th>count</th>\n      <td>445.000000</td>\n      <td>445.000000</td>\n      <td>445.00000</td>\n      <td>445.000000</td>\n      <td>445.000000</td>\n      <td>445.000000</td>\n      <td>445.000000</td>\n      <td>445.000000</td>\n      <td>445.000000</td>\n      <td>445.000000</td>\n    </tr>\n    <tr>\n      <th>mean</th>\n      <td>0.782022</td>\n      <td>0.833708</td>\n      <td>0.08764</td>\n      <td>25.370787</td>\n      <td>10.195506</td>\n      <td>0.168539</td>\n      <td>0.732584</td>\n      <td>0.649438</td>\n      <td>0.415730</td>\n      <td>0.692135</td>\n    </tr>\n    <tr>\n      <th>std</th>\n      <td>0.413337</td>\n      <td>0.372762</td>\n      <td>0.28309</td>\n      <td>7.100282</td>\n      <td>1.792119</td>\n      <td>0.374766</td>\n      <td>0.443109</td>\n      <td>0.477683</td>\n      <td>0.493402</td>\n      <td>0.462130</td>\n    </tr>\n    <tr>\n      <th>min</th>\n      <td>0.000000</td>\n      <td>0.000000</td>\n      <td>0.00000</td>\n      <td>17.000000</td>\n      <td>3.000000</td>\n      <td>0.000000</td>\n      <td>0.000000</td>\n      <td>0.000000</td>\n      <td>0.000000</td>\n      <td>0.000000</td>\n    </tr>\n    <tr>\n      <th>25%</th>\n      <td>1.000000</td>\n      <td>1.000000</td>\n      <td>0.00000</td>\n      <td>20.000000</td>\n      <td>9.000000</td>\n      <td>0.000000</td>\n      <td>0.000000</td>\n      <td>0.000000</td>\n      <td>0.000000</td>\n      <td>0.000000</td>\n    </tr>\n    <tr>\n      <th>50%</th>\n      <td>1.000000</td>\n      <td>1.000000</td>\n      <td>0.00000</td>\n      <td>24.000000</td>\n      <td>10.000000</td>\n      <td>0.000000</td>\n      <td>1.000000</td>\n      <td>1.000000</td>\n      <td>0.000000</td>\n      <td>1.000000</td>\n    </tr>\n    <tr>\n      <th>75%</th>\n      <td>1.000000</td>\n      <td>1.000000</td>\n      <td>0.00000</td>\n      <td>28.000000</td>\n      <td>11.000000</td>\n      <td>0.000000</td>\n      <td>1.000000</td>\n      <td>1.000000</td>\n      <td>1.000000</td>\n      <td>1.000000</td>\n    </tr>\n    <tr>\n      <th>max</th>\n      <td>1.000000</td>\n      <td>1.000000</td>\n      <td>1.00000</td>\n      <td>55.000000</td>\n      <td>16.000000</td>\n      <td>1.000000</td>\n      <td>1.000000</td>\n      <td>1.000000</td>\n      <td>1.000000</td>\n      <td>1.000000</td>\n    </tr>\n  </tbody>\n</table>\n</div>"
     },
     "metadata": {},
     "execution_count": 8
    }
   ],
   "source": [
    "df.head()\n",
    "df.describe()"
   ]
  },
  {
   "cell_type": "code",
   "execution_count": null,
   "metadata": {},
   "outputs": [],
   "source": []
  }
 ],
 "metadata": {
  "language_info": {
   "codemirror_mode": {
    "name": "ipython",
    "version": 3
   },
   "file_extension": ".py",
   "mimetype": "text/x-python",
   "name": "python",
   "nbconvert_exporter": "python",
   "pygments_lexer": "ipython3",
   "version": "3.8.1-final"
  },
  "orig_nbformat": 2,
  "kernelspec": {
   "name": "python38164bitb8f2fd87a57e47eb8de194bafcbebe82",
   "display_name": "Python 3.8.1 64-bit"
  }
 },
 "nbformat": 4,
 "nbformat_minor": 2
}