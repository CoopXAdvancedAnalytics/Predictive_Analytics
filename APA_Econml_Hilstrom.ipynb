{
  "nbformat": 4,
  "nbformat_minor": 0,
  "metadata": {
    "colab": {
      "name": "APA- Econml-Hilstrom.ipynb",
      "provenance": [],
      "authorship_tag": "ABX9TyNOm6OJmAH4drmGxhlq+GTT",
      "include_colab_link": true
    },
    "kernelspec": {
      "name": "python3",
      "display_name": "Python 3"
    }
  },
  "cells": [
    {
      "cell_type": "markdown",
      "metadata": {
        "id": "view-in-github",
        "colab_type": "text"
      },
      "source": [
        "<a href=\"https://colab.research.google.com/github/Olesiewitch/Predictive_Analytics/blob/master/APA_Econml_Hilstrom.ipynb\" target=\"_parent\"><img src=\"https://colab.research.google.com/assets/colab-badge.svg\" alt=\"Open In Colab\"/></a>"
      ]
    },
    {
      "cell_type": "code",
      "metadata": {
        "id": "NSsR279TEpzg",
        "colab_type": "code",
        "colab": {}
      },
      "source": [
        "# Main imports \n",
        "from econml.metalearners import TLearner, SLearner, XLearner, DomainAdaptationLearner\n",
        "import econml\n",
        "import pandas as pd\n",
        "import numpy as np\n",
        "import seaborn as sns\n",
        "import matplotlib.pyplot as plt\n",
        "from sklearn.linear_model import LinearRegression\n",
        "from sklearn.ensemble import RandomForestClassifier, RandomForestRegressor, GradientBoostingRegressor\n",
        "\n",
        "%matplotlib inline \n",
        "\n",
        "dataurl='https://raw.githubusercontent.com/Olesiewitch/Predictive_Analytics/master/Kevin_Hillstrom_MineThatData_E-MailAnalytics_DataMiningChallenge_2008.03.20.csv'"
      ],
      "execution_count": 0,
      "outputs": []
    },
    {
      "cell_type": "code",
      "metadata": {
        "id": "0o23XCGJFW_a",
        "colab_type": "code",
        "colab": {}
      },
      "source": [
        "df=pd.read_csv(dataurl)"
      ],
      "execution_count": 0,
      "outputs": []
    },
    {
      "cell_type": "code",
      "metadata": {
        "id": "-jP1vGa9FXnL",
        "colab_type": "code",
        "colab": {}
      },
      "source": [
        "sns.set(style=\"whitegrid\")\n",
        "sns.set(rc={'figure.figsize':(15,5)})"
      ],
      "execution_count": 0,
      "outputs": []
    },
    {
      "cell_type": "code",
      "metadata": {
        "id": "omYTQ_nMFX32",
        "colab_type": "code",
        "colab": {
          "base_uri": "https://localhost:8080/",
          "height": 69
        },
        "outputId": "781ad532-278f-479f-f5a3-02ed2f5edf7b"
      },
      "source": [
        "df.keys()"
      ],
      "execution_count": 34,
      "outputs": [
        {
          "output_type": "execute_result",
          "data": {
            "text/plain": [
              "Index(['recency', 'history_segment', 'history', 'mens', 'womens', 'zip_code',\n",
              "       'newbie', 'channel', 'segment', 'visit', 'conversion', 'spend'],\n",
              "      dtype='object')"
            ]
          },
          "metadata": {
            "tags": []
          },
          "execution_count": 34
        }
      ]
    },
    {
      "cell_type": "code",
      "metadata": {
        "id": "0Np0y7HlFYEc",
        "colab_type": "code",
        "colab": {
          "base_uri": "https://localhost:8080/",
          "height": 289
        },
        "outputId": "96fb2165-16ea-4ff4-fce1-7c6b854febe3"
      },
      "source": [
        "df.head()"
      ],
      "execution_count": 8,
      "outputs": [
        {
          "output_type": "execute_result",
          "data": {
            "text/html": [
              "<div>\n",
              "<style scoped>\n",
              "    .dataframe tbody tr th:only-of-type {\n",
              "        vertical-align: middle;\n",
              "    }\n",
              "\n",
              "    .dataframe tbody tr th {\n",
              "        vertical-align: top;\n",
              "    }\n",
              "\n",
              "    .dataframe thead th {\n",
              "        text-align: right;\n",
              "    }\n",
              "</style>\n",
              "<table border=\"1\" class=\"dataframe\">\n",
              "  <thead>\n",
              "    <tr style=\"text-align: right;\">\n",
              "      <th></th>\n",
              "      <th>recency</th>\n",
              "      <th>history_segment</th>\n",
              "      <th>history</th>\n",
              "      <th>mens</th>\n",
              "      <th>womens</th>\n",
              "      <th>zip_code</th>\n",
              "      <th>newbie</th>\n",
              "      <th>channel</th>\n",
              "      <th>segment</th>\n",
              "      <th>visit</th>\n",
              "      <th>conversion</th>\n",
              "      <th>spend</th>\n",
              "    </tr>\n",
              "  </thead>\n",
              "  <tbody>\n",
              "    <tr>\n",
              "      <th>0</th>\n",
              "      <td>10</td>\n",
              "      <td>2) $100 - $200</td>\n",
              "      <td>142.44</td>\n",
              "      <td>1</td>\n",
              "      <td>0</td>\n",
              "      <td>Surburban</td>\n",
              "      <td>0</td>\n",
              "      <td>Phone</td>\n",
              "      <td>Womens E-Mail</td>\n",
              "      <td>0</td>\n",
              "      <td>0</td>\n",
              "      <td>0.0</td>\n",
              "    </tr>\n",
              "    <tr>\n",
              "      <th>1</th>\n",
              "      <td>6</td>\n",
              "      <td>3) $200 - $350</td>\n",
              "      <td>329.08</td>\n",
              "      <td>1</td>\n",
              "      <td>1</td>\n",
              "      <td>Rural</td>\n",
              "      <td>1</td>\n",
              "      <td>Web</td>\n",
              "      <td>No E-Mail</td>\n",
              "      <td>0</td>\n",
              "      <td>0</td>\n",
              "      <td>0.0</td>\n",
              "    </tr>\n",
              "    <tr>\n",
              "      <th>2</th>\n",
              "      <td>7</td>\n",
              "      <td>2) $100 - $200</td>\n",
              "      <td>180.65</td>\n",
              "      <td>0</td>\n",
              "      <td>1</td>\n",
              "      <td>Surburban</td>\n",
              "      <td>1</td>\n",
              "      <td>Web</td>\n",
              "      <td>Womens E-Mail</td>\n",
              "      <td>0</td>\n",
              "      <td>0</td>\n",
              "      <td>0.0</td>\n",
              "    </tr>\n",
              "    <tr>\n",
              "      <th>3</th>\n",
              "      <td>9</td>\n",
              "      <td>5) $500 - $750</td>\n",
              "      <td>675.83</td>\n",
              "      <td>1</td>\n",
              "      <td>0</td>\n",
              "      <td>Rural</td>\n",
              "      <td>1</td>\n",
              "      <td>Web</td>\n",
              "      <td>Mens E-Mail</td>\n",
              "      <td>0</td>\n",
              "      <td>0</td>\n",
              "      <td>0.0</td>\n",
              "    </tr>\n",
              "    <tr>\n",
              "      <th>4</th>\n",
              "      <td>2</td>\n",
              "      <td>1) $0 - $100</td>\n",
              "      <td>45.34</td>\n",
              "      <td>1</td>\n",
              "      <td>0</td>\n",
              "      <td>Urban</td>\n",
              "      <td>0</td>\n",
              "      <td>Web</td>\n",
              "      <td>Womens E-Mail</td>\n",
              "      <td>0</td>\n",
              "      <td>0</td>\n",
              "      <td>0.0</td>\n",
              "    </tr>\n",
              "  </tbody>\n",
              "</table>\n",
              "</div>"
            ],
            "text/plain": [
              "   recency history_segment  history  ...  visit  conversion spend\n",
              "0       10  2) $100 - $200   142.44  ...      0           0   0.0\n",
              "1        6  3) $200 - $350   329.08  ...      0           0   0.0\n",
              "2        7  2) $100 - $200   180.65  ...      0           0   0.0\n",
              "3        9  5) $500 - $750   675.83  ...      0           0   0.0\n",
              "4        2    1) $0 - $100    45.34  ...      0           0   0.0\n",
              "\n",
              "[5 rows x 12 columns]"
            ]
          },
          "metadata": {
            "tags": []
          },
          "execution_count": 8
        }
      ]
    },
    {
      "cell_type": "code",
      "metadata": {
        "id": "Ib2l45kdFYMT",
        "colab_type": "code",
        "colab": {
          "base_uri": "https://localhost:8080/",
          "height": 347
        },
        "outputId": "3339b8ed-1bf8-4d78-f6d7-8a512b0c19c8"
      },
      "source": [
        "df.info()"
      ],
      "execution_count": 9,
      "outputs": [
        {
          "output_type": "stream",
          "text": [
            "<class 'pandas.core.frame.DataFrame'>\n",
            "RangeIndex: 64000 entries, 0 to 63999\n",
            "Data columns (total 12 columns):\n",
            " #   Column           Non-Null Count  Dtype  \n",
            "---  ------           --------------  -----  \n",
            " 0   recency          64000 non-null  int64  \n",
            " 1   history_segment  64000 non-null  object \n",
            " 2   history          64000 non-null  float64\n",
            " 3   mens             64000 non-null  int64  \n",
            " 4   womens           64000 non-null  int64  \n",
            " 5   zip_code         64000 non-null  object \n",
            " 6   newbie           64000 non-null  int64  \n",
            " 7   channel          64000 non-null  object \n",
            " 8   segment          64000 non-null  object \n",
            " 9   visit            64000 non-null  int64  \n",
            " 10  conversion       64000 non-null  int64  \n",
            " 11  spend            64000 non-null  float64\n",
            "dtypes: float64(2), int64(6), object(4)\n",
            "memory usage: 5.9+ MB\n"
          ],
          "name": "stdout"
        }
      ]
    },
    {
      "cell_type": "code",
      "metadata": {
        "id": "KaUyR08rFYR0",
        "colab_type": "code",
        "colab": {
          "base_uri": "https://localhost:8080/",
          "height": 121
        },
        "outputId": "54c9461e-2d69-415a-ff20-0b48ed4d19d4"
      },
      "source": [
        "df['segment'].head()"
      ],
      "execution_count": 10,
      "outputs": [
        {
          "output_type": "execute_result",
          "data": {
            "text/plain": [
              "0    Womens E-Mail\n",
              "1        No E-Mail\n",
              "2    Womens E-Mail\n",
              "3      Mens E-Mail\n",
              "4    Womens E-Mail\n",
              "Name: segment, dtype: object"
            ]
          },
          "metadata": {
            "tags": []
          },
          "execution_count": 10
        }
      ]
    },
    {
      "cell_type": "code",
      "metadata": {
        "id": "zRdKzCg6FYX1",
        "colab_type": "code",
        "colab": {}
      },
      "source": [
        "def generate_feature_repr(values):\n",
        "  feature_names = list(set(values))\n",
        "  feature_names.sort()\n",
        "  feature_values = []\n",
        "  for feature_name in feature_names:\n",
        "      value = values[values==feature_name].shape[0]\n",
        "      feature_values.append(value)\n",
        "  return pd.DataFrame(data={\n",
        "      'Name': feature_names,\n",
        "      'Value':feature_values\n",
        "  })"
      ],
      "execution_count": 0,
      "outputs": []
    },
    {
      "cell_type": "code",
      "metadata": {
        "id": "GA0NHoxdMWoG",
        "colab_type": "code",
        "colab": {
          "base_uri": "https://localhost:8080/",
          "height": 323
        },
        "outputId": "3e20643a-1dd2-4a21-826c-b058730fbfb8"
      },
      "source": [
        "df_repr= generate_feature_repr(df['segment'])\n",
        "ax = sns.barplot(x='Name', y='Value', data=df_repr)\n",
        "ax.set(\n",
        "    xlabel='',\n",
        "    ylabel='Number of samples',\n",
        "    title='Number of samples for each treatment'\n",
        ");"
      ],
      "execution_count": 13,
      "outputs": [
        {
          "output_type": "display_data",
          "data": {
            "image/png": "[encoded data removed]",
            "text/plain": [
              "<Figure size 1080x360 with 1 Axes>"
            ]
          },
          "metadata": {
            "tags": []
          }
        }
      ]
    },
    {
      "cell_type": "code",
      "metadata": {
        "id": "dsGW_FpEMW7X",
        "colab_type": "code",
        "colab": {
          "base_uri": "https://localhost:8080/",
          "height": 35
        },
        "outputId": "aac60a51-c79e-411e-ca83-f2fb7b8ac622"
      },
      "source": [
        "# Inspect Target Variable\n",
        "# Target variable -spend\n",
        "\n",
        "target=df['spend']\n",
        "non_zero = target[target !=0].shape[0]\n",
        "\n",
        "print(\"{}% - of samples actually spent\". format(100 * non_zero / target.shape[0]))\n"
      ],
      "execution_count": 17,
      "outputs": [
        {
          "output_type": "stream",
          "text": [
            "0.903125% - of samples actually spent\n"
          ],
          "name": "stdout"
        }
      ]
    },
    {
      "cell_type": "code",
      "metadata": {
        "id": "HkaB9AVaMXBI",
        "colab_type": "code",
        "colab": {
          "base_uri": "https://localhost:8080/",
          "height": 313
        },
        "outputId": "f127a4c7-f3e1-402d-a9e8-2bd3405ebeb1"
      },
      "source": [
        "# TARGET VARIABLE- VISIT\n",
        "# 1/0 INDICATOR, 1 = Customer visited webiste in the following two weeks\n",
        "\n",
        "df_repr = generate_feature_repr(df['visit'].values)\n",
        "df_repr['Name'] = df_repr['Name'].apply(lambda x: 'Customer visited the website' if x else \n",
        "                                        \" Customer didn't visit the website\")\n",
        "ax= sns.barplot(x='Name', y='Value', data=df_repr)\n",
        "ax.set(xlabel='', ylabel='');\n"
      ],
      "execution_count": 19,
      "outputs": [
        {
          "output_type": "display_data",
          "data": {
            "image/png": "[encoded data removed]",
            "text/plain": [
              "<Figure size 1080x360 with 1 Axes>"
            ]
          },
          "metadata": {
            "tags": []
          }
        }
      ]
    },
    {
      "cell_type": "code",
      "metadata": {
        "id": "kUxBkJqmMXGk",
        "colab_type": "code",
        "colab": {
          "base_uri": "https://localhost:8080/",
          "height": 313
        },
        "outputId": "8d4e4e3e-fa4a-4217-a446-72b3755f3c58"
      },
      "source": [
        "#  Target Variable -Conversion:\n",
        "\n",
        "df_repr= generate_feature_repr(df['conversion'].values)\n",
        "df_repr['Name']=df_repr['Name'].apply(lambda x: 'Customer made purchase' if x else \"Customer didn't make purchase\")\n",
        "ax = sns.barplot(x='Name', y='Value', data=df_repr)\n",
        "ax.set(xlabel='', ylabel='');"
      ],
      "execution_count": 20,
      "outputs": [
        {
          "output_type": "display_data",
          "data": {
            "image/png": "[encoded data removed]",
            "text/plain": [
              "<Figure size 1080x360 with 1 Axes>"
            ]
          },
          "metadata": {
            "tags": []
          }
        }
      ]
    },
    {
      "cell_type": "code",
      "metadata": {
        "id": "b9fRAPJPMXK2",
        "colab_type": "code",
        "colab": {
          "base_uri": "https://localhost:8080/",
          "height": 317
        },
        "outputId": "f5032ec5-e1c3-4baa-9feb-d9a68b1738d7"
      },
      "source": [
        "# Inspect Features\n",
        "# Feature: History_segment\n",
        "\n",
        "df_repr = generate_feature_repr(df['history_segment'].values)\n",
        "ax=sns.barplot(x='Name', y='Value', data=df_repr)\n",
        "ax.set(xlabel='', ylabel='');"
      ],
      "execution_count": 21,
      "outputs": [
        {
          "output_type": "display_data",
          "data": {
            "image/png": "[encoded data removed]",
            "text/plain": [
              "<Figure size 1080x360 with 1 Axes>"
            ]
          },
          "metadata": {
            "tags": []
          }
        }
      ]
    },
    {
      "cell_type": "code",
      "metadata": {
        "id": "MSptL_oop1wz",
        "colab_type": "code",
        "colab": {
          "base_uri": "https://localhost:8080/",
          "height": 324
        },
        "outputId": "ef37e804-77ce-431b-aed9-2cb8afcd1330"
      },
      "source": [
        "df_repr = generate_feature_repr(df['channel'].values)\n",
        "ax = sns.barplot(x='Name', y='Value', data=df_repr)\n",
        "ax.set(xlabel='ChanneY, T, X = generate_data(n, d, controls_outcome, treatment_effect, propensity)l', ylabel='Counts', title='');"
      ],
      "execution_count": 28,
      "outputs": [
        {
          "output_type": "display_data",
          "data": {
            "image/png": "[encoded data removed]",
            "text/plain": [
              "<Figure size 1080x360 with 1 Axes>"
            ]
          },
          "metadata": {
            "tags": []
          }
        }
      ]
    },
    {
      "cell_type": "code",
      "metadata": {
        "id": "CpD7ZtTPItVb",
        "colab_type": "code",
        "colab": {
          "base_uri": "https://localhost:8080/",
          "height": 121
        },
        "outputId": "01faf6ff-db08-4a12-c4b9-9037a7a1b6ae"
      },
      "source": [
        "df['history_segment'].head()"
      ],
      "execution_count": 57,
      "outputs": [
        {
          "output_type": "execute_result",
          "data": {
            "text/plain": [
              "0    $100 - $200\n",
              "1    $200 - $350\n",
              "2    $100 - $200\n",
              "3    $500 - $750\n",
              "4      $0 - $100\n",
              "Name: history_segment, dtype: object"
            ]
          },
          "metadata": {
            "tags": []
          },
          "execution_count": 57
        }
      ]
    },
    {
      "cell_type": "code",
      "metadata": {
        "id": "cLHK95a7ItaX",
        "colab_type": "code",
        "colab": {}
      },
      "source": [
        "# data cleaning\n",
        "\n",
        "df['history_segment'] = df['history_segment'].apply(lambda s: s.split(') ')[1])\n",
        "df['history_segment'] = df['history_segment'].astype(str)\n",
        "df['history_segment'] = [i.replace('$', '').replace(',', '').replace('-', '_').replace(' ', '') for i in df['history_segment']]\n"
      ],
      "execution_count": 0,
      "outputs": []
    },
    {
      "cell_type": "code",
      "metadata": {
        "id": "A0z-emHLItep",
        "colab_type": "code",
        "colab": {
          "base_uri": "https://localhost:8080/",
          "height": 222
        },
        "outputId": "8453cc7e-b48f-4fb1-ab8d-945bb6006df1"
      },
      "source": [
        "df.head()"
      ],
      "execution_count": 70,
      "outputs": [
        {
          "output_type": "execute_result",
          "data": {
            "text/html": [
              "<div>\n",
              "<style scoped>\n",
              "    .dataframe tbody tr th:only-of-type {\n",
              "        vertical-align: middle;\n",
              "    }\n",
              "\n",
              "    .dataframe tbody tr th {\n",
              "        vertical-align: top;\n",
              "    }\n",
              "\n",
              "    .dataframe thead th {\n",
              "        text-align: right;\n",
              "    }\n",
              "</style>\n",
              "<table border=\"1\" class=\"dataframe\">\n",
              "  <thead>\n",
              "    <tr style=\"text-align: right;\">\n",
              "      <th></th>\n",
              "      <th>recency</th>\n",
              "      <th>history</th>\n",
              "      <th>mens</th>\n",
              "      <th>womens</th>\n",
              "      <th>newbie</th>\n",
              "      <th>Treatment</th>\n",
              "      <th>visit</th>\n",
              "      <th>conversion</th>\n",
              "      <th>spend</th>\n",
              "      <th>zip_code_Rural</th>\n",
              "      <th>zip_code_Surburban</th>\n",
              "      <th>zip_code_Urban</th>\n",
              "      <th>history_segment_0_100</th>\n",
              "      <th>history_segment_1000+</th>\n",
              "      <th>history_segment_100_200</th>\n",
              "      <th>history_segment_200_350</th>\n",
              "      <th>history_segment_350_500</th>\n",
              "      <th>history_segment_500_750</th>\n",
              "      <th>history_segment_750_1000</th>\n",
              "      <th>channel_Multichannel</th>\n",
              "      <th>channel_Phone</th>\n",
              "      <th>channel_Web</th>\n",
              "    </tr>\n",
              "  </thead>\n",
              "  <tbody>\n",
              "    <tr>\n",
              "      <th>0</th>\n",
              "      <td>10</td>\n",
              "      <td>142.44</td>\n",
              "      <td>1</td>\n",
              "      <td>0</td>\n",
              "      <td>0</td>\n",
              "      <td>2</td>\n",
              "      <td>0</td>\n",
              "      <td>0</td>\n",
              "      <td>0.0</td>\n",
              "      <td>0</td>\n",
              "      <td>1</td>\n",
              "      <td>0</td>\n",
              "      <td>0</td>\n",
              "      <td>0</td>\n",
              "      <td>1</td>\n",
              "      <td>0</td>\n",
              "      <td>0</td>\n",
              "      <td>0</td>\n",
              "      <td>0</td>\n",
              "      <td>0</td>\n",
              "      <td>1</td>\n",
              "      <td>0</td>\n",
              "    </tr>\n",
              "    <tr>\n",
              "      <th>1</th>\n",
              "      <td>6</td>\n",
              "      <td>329.08</td>\n",
              "      <td>1</td>\n",
              "      <td>1</td>\n",
              "      <td>1</td>\n",
              "      <td>0</td>\n",
              "      <td>0</td>\n",
              "      <td>0</td>\n",
              "      <td>0.0</td>\n",
              "      <td>1</td>\n",
              "      <td>0</td>\n",
              "      <td>0</td>\n",
              "      <td>0</td>\n",
              "      <td>0</td>\n",
              "      <td>0</td>\n",
              "      <td>1</td>\n",
              "      <td>0</td>\n",
              "      <td>0</td>\n",
              "      <td>0</td>\n",
              "      <td>0</td>\n",
              "      <td>0</td>\n",
              "      <td>1</td>\n",
              "    </tr>\n",
              "    <tr>\n",
              "      <th>2</th>\n",
              "      <td>7</td>\n",
              "      <td>180.65</td>\n",
              "      <td>0</td>\n",
              "      <td>1</td>\n",
              "      <td>1</td>\n",
              "      <td>2</td>\n",
              "      <td>0</td>\n",
              "      <td>0</td>\n",
              "      <td>0.0</td>\n",
              "      <td>0</td>\n",
              "      <td>1</td>\n",
              "      <td>0</td>\n",
              "      <td>0</td>\n",
              "      <td>0</td>\n",
              "      <td>1</td>\n",
              "      <td>0</td>\n",
              "      <td>0</td>\n",
              "      <td>0</td>\n",
              "      <td>0</td>\n",
              "      <td>0</td>\n",
              "      <td>0</td>\n",
              "      <td>1</td>\n",
              "    </tr>\n",
              "    <tr>\n",
              "      <th>3</th>\n",
              "      <td>9</td>\n",
              "      <td>675.83</td>\n",
              "      <td>1</td>\n",
              "      <td>0</td>\n",
              "      <td>1</td>\n",
              "      <td>1</td>\n",
              "      <td>0</td>\n",
              "      <td>0</td>\n",
              "      <td>0.0</td>\n",
              "      <td>1</td>\n",
              "      <td>0</td>\n",
              "      <td>0</td>\n",
              "      <td>0</td>\n",
              "      <td>0</td>\n",
              "      <td>0</td>\n",
              "      <td>0</td>\n",
              "      <td>0</td>\n",
              "      <td>1</td>\n",
              "      <td>0</td>\n",
              "      <td>0</td>\n",
              "      <td>0</td>\n",
              "      <td>1</td>\n",
              "    </tr>\n",
              "    <tr>\n",
              "      <th>4</th>\n",
              "      <td>2</td>\n",
              "      <td>45.34</td>\n",
              "      <td>1</td>\n",
              "      <td>0</td>\n",
              "      <td>0</td>\n",
              "      <td>2</td>\n",
              "      <td>0</td>\n",
              "      <td>0</td>\n",
              "      <td>0.0</td>\n",
              "      <td>0</td>\n",
              "      <td>0</td>\n",
              "      <td>1</td>\n",
              "      <td>1</td>\n",
              "      <td>0</td>\n",
              "      <td>0</td>\n",
              "      <td>0</td>\n",
              "      <td>0</td>\n",
              "      <td>0</td>\n",
              "      <td>0</td>\n",
              "      <td>0</td>\n",
              "      <td>0</td>\n",
              "      <td>1</td>\n",
              "    </tr>\n",
              "  </tbody>\n",
              "</table>\n",
              "</div>"
            ],
            "text/plain": [
              "   recency  history  mens  ...  channel_Multichannel  channel_Phone  channel_Web\n",
              "0       10   142.44     1  ...                     0              1            0\n",
              "1        6   329.08     1  ...                     0              0            1\n",
              "2        7   180.65     0  ...                     0              0            1\n",
              "3        9   675.83     1  ...                     0              0            1\n",
              "4        2    45.34     1  ...                     0              0            1\n",
              "\n",
              "[5 rows x 22 columns]"
            ]
          },
          "metadata": {
            "tags": []
          },
          "execution_count": 70
        }
      ]
    },
    {
      "cell_type": "code",
      "metadata": {
        "id": "MZEAd3a0ItjW",
        "colab_type": "code",
        "colab": {}
      },
      "source": [
        "# column types to numeric??\n",
        "\n",
        "# Rename columns \n",
        "df = df.rename(columns= {'segment' : 'Treatment'})\n",
        "\n",
        "# Create dummy columns\n",
        "dummy_cols = ['zip_code', 'history_segment', 'channel']\n",
        "for col in dummy_cols:\n",
        "  df = pd.get_dummies(df, columns=[col], prefix=col)\n",
        "\n",
        "# Encode the 'Treatment' Column\n",
        "\n",
        "treatment_encoder = {'No E-Mail': 0, 'Mens E-Mail': 1, 'Womens E-Mail': 2}\n",
        "df['Treatment'] = df['Treatment'].apply(lambda x: treatment_encoder[x])"
      ],
      "execution_count": 0,
      "outputs": []
    },
    {
      "cell_type": "code",
      "metadata": {
        "id": "6f2jiNW9IttU",
        "colab_type": "code",
        "colab": {
          "base_uri": "https://localhost:8080/",
          "height": 239
        },
        "outputId": "533a4a6d-6afe-4a63-fe3c-9e8abe20e46e"
      },
      "source": [
        "df.head()"
      ],
      "execution_count": 73,
      "outputs": [
        {
          "output_type": "execute_result",
          "data": {
            "text/html": [
              "<div>\n",
              "<style scoped>\n",
              "    .dataframe tbody tr th:only-of-type {\n",
              "        vertical-align: middle;\n",
              "    }\n",
              "\n",
              "    .dataframe tbody tr th {\n",
              "        vertical-align: top;\n",
              "    }\n",
              "\n",
              "    .dataframe thead th {\n",
              "        text-align: right;\n",
              "    }\n",
              "</style>\n",
              "<table border=\"1\" class=\"dataframe\">\n",
              "  <thead>\n",
              "    <tr style=\"text-align: right;\">\n",
              "      <th></th>\n",
              "      <th>recency</th>\n",
              "      <th>history</th>\n",
              "      <th>mens</th>\n",
              "      <th>womens</th>\n",
              "      <th>newbie</th>\n",
              "      <th>Treatment</th>\n",
              "      <th>visit</th>\n",
              "      <th>conversion</th>\n",
              "      <th>spend</th>\n",
              "      <th>zip_code_Rural</th>\n",
              "      <th>zip_code_Surburban</th>\n",
              "      <th>zip_code_Urban</th>\n",
              "      <th>history_segment_1) $0 - $100</th>\n",
              "      <th>history_segment_2) $100 - $200</th>\n",
              "      <th>history_segment_3) $200 - $350</th>\n",
              "      <th>history_segment_4) $350 - $500</th>\n",
              "      <th>history_segment_5) $500 - $750</th>\n",
              "      <th>history_segment_6) $750 - $1,000</th>\n",
              "      <th>history_segment_7) $1,000 +</th>\n",
              "      <th>channel_Multichannel</th>\n",
              "      <th>channel_Phone</th>\n",
              "      <th>channel_Web</th>\n",
              "    </tr>\n",
              "  </thead>\n",
              "  <tbody>\n",
              "    <tr>\n",
              "      <th>0</th>\n",
              "      <td>10</td>\n",
              "      <td>142.44</td>\n",
              "      <td>1</td>\n",
              "      <td>0</td>\n",
              "      <td>0</td>\n",
              "      <td>2</td>\n",
              "      <td>0</td>\n",
              "      <td>0</td>\n",
              "      <td>0.0</td>\n",
              "      <td>0</td>\n",
              "      <td>1</td>\n",
              "      <td>0</td>\n",
              "      <td>0</td>\n",
              "      <td>1</td>\n",
              "      <td>0</td>\n",
              "      <td>0</td>\n",
              "      <td>0</td>\n",
              "      <td>0</td>\n",
              "      <td>0</td>\n",
              "      <td>0</td>\n",
              "      <td>1</td>\n",
              "      <td>0</td>\n",
              "    </tr>\n",
              "    <tr>\n",
              "      <th>1</th>\n",
              "      <td>6</td>\n",
              "      <td>329.08</td>\n",
              "      <td>1</td>\n",
              "      <td>1</td>\n",
              "      <td>1</td>\n",
              "      <td>0</td>\n",
              "      <td>0</td>\n",
              "      <td>0</td>\n",
              "      <td>0.0</td>\n",
              "      <td>1</td>\n",
              "      <td>0</td>\n",
              "      <td>0</td>\n",
              "      <td>0</td>\n",
              "      <td>0</td>\n",
              "      <td>1</td>\n",
              "      <td>0</td>\n",
              "      <td>0</td>\n",
              "      <td>0</td>\n",
              "      <td>0</td>\n",
              "      <td>0</td>\n",
              "      <td>0</td>\n",
              "      <td>1</td>\n",
              "    </tr>\n",
              "    <tr>\n",
              "      <th>2</th>\n",
              "      <td>7</td>\n",
              "      <td>180.65</td>\n",
              "      <td>0</td>\n",
              "      <td>1</td>\n",
              "      <td>1</td>\n",
              "      <td>2</td>\n",
              "      <td>0</td>\n",
              "      <td>0</td>\n",
              "      <td>0.0</td>\n",
              "      <td>0</td>\n",
              "      <td>1</td>\n",
              "      <td>0</td>\n",
              "      <td>0</td>\n",
              "      <td>1</td>\n",
              "      <td>0</td>\n",
              "      <td>0</td>\n",
              "      <td>0</td>\n",
              "      <td>0</td>\n",
              "      <td>0</td>\n",
              "      <td>0</td>\n",
              "      <td>0</td>\n",
              "      <td>1</td>\n",
              "    </tr>\n",
              "    <tr>\n",
              "      <th>3</th>\n",
              "      <td>9</td>\n",
              "      <td>675.83</td>\n",
              "      <td>1</td>\n",
              "      <td>0</td>\n",
              "      <td>1</td>\n",
              "      <td>1</td>\n",
              "      <td>0</td>\n",
              "      <td>0</td>\n",
              "      <td>0.0</td>\n",
              "      <td>1</td>\n",
              "      <td>0</td>\n",
              "      <td>0</td>\n",
              "      <td>0</td>\n",
              "      <td>0</td>\n",
              "      <td>0</td>\n",
              "      <td>0</td>\n",
              "      <td>1</td>\n",
              "      <td>0</td>\n",
              "      <td>0</td>\n",
              "      <td>0</td>\n",
              "      <td>0</td>\n",
              "      <td>1</td>\n",
              "    </tr>\n",
              "    <tr>\n",
              "      <th>4</th>\n",
              "      <td>2</td>\n",
              "      <td>45.34</td>\n",
              "      <td>1</td>\n",
              "      <td>0</td>\n",
              "      <td>0</td>\n",
              "      <td>2</td>\n",
              "      <td>0</td>\n",
              "      <td>0</td>\n",
              "      <td>0.0</td>\n",
              "      <td>0</td>\n",
              "      <td>0</td>\n",
              "      <td>1</td>\n",
              "      <td>1</td>\n",
              "      <td>0</td>\n",
              "      <td>0</td>\n",
              "      <td>0</td>\n",
              "      <td>0</td>\n",
              "      <td>0</td>\n",
              "      <td>0</td>\n",
              "      <td>0</td>\n",
              "      <td>0</td>\n",
              "      <td>1</td>\n",
              "    </tr>\n",
              "  </tbody>\n",
              "</table>\n",
              "</div>"
            ],
            "text/plain": [
              "   recency  history  mens  ...  channel_Multichannel  channel_Phone  channel_Web\n",
              "0       10   142.44     1  ...                     0              1            0\n",
              "1        6   329.08     1  ...                     0              0            1\n",
              "2        7   180.65     0  ...                     0              0            1\n",
              "3        9   675.83     1  ...                     0              0            1\n",
              "4        2    45.34     1  ...                     0              0            1\n",
              "\n",
              "[5 rows x 22 columns]"
            ]
          },
          "metadata": {
            "tags": []
          },
          "execution_count": 73
        }
      ]
    },
    {
      "cell_type": "code",
      "metadata": {
        "id": "4rT1xVBFItx-",
        "colab_type": "code",
        "colab": {}
      },
      "source": [
        "# Normalize data\n",
        "\n",
        "normalization_fields = ['recency', 'history']\n",
        "df[normalization_fields] = (df[normalization_fields] - df[normalization_fields].mean()) / df[normalization_fields].std()"
      ],
      "execution_count": 0,
      "outputs": []
    },
    {
      "cell_type": "code",
      "metadata": {
        "id": "U1PP402RNINb",
        "colab_type": "code",
        "colab": {}
      },
      "source": [
        ""
      ],
      "execution_count": 0,
      "outputs": []
    },
    {
      "cell_type": "code",
      "metadata": {
        "id": "4-4ZgSVPIt20",
        "colab_type": "code",
        "colab": {}
      },
      "source": [
        "##"
      ],
      "execution_count": 0,
      "outputs": []
    },
    {
      "cell_type": "code",
      "metadata": {
        "id": "qLeVyCm9It7A",
        "colab_type": "code",
        "colab": {}
      },
      "source": [
        ""
      ],
      "execution_count": 0,
      "outputs": []
    },
    {
      "cell_type": "code",
      "metadata": {
        "id": "xMKR4bzgIt_b",
        "colab_type": "code",
        "colab": {}
      },
      "source": [
        ""
      ],
      "execution_count": 0,
      "outputs": []
    },
    {
      "cell_type": "code",
      "metadata": {
        "id": "pBq2QkrVIuDq",
        "colab_type": "code",
        "colab": {}
      },
      "source": [
        ""
      ],
      "execution_count": 0,
      "outputs": []
    },
    {
      "cell_type": "code",
      "metadata": {
        "id": "pycX-sknIuHv",
        "colab_type": "code",
        "colab": {}
      },
      "source": [
        ""
      ],
      "execution_count": 0,
      "outputs": []
    },
    {
      "cell_type": "code",
      "metadata": {
        "id": "InhrK7tMIuMc",
        "colab_type": "code",
        "colab": {}
      },
      "source": [
        ""
      ],
      "execution_count": 0,
      "outputs": []
    },
    {
      "cell_type": "code",
      "metadata": {
        "id": "OieAWHE_IuQe",
        "colab_type": "code",
        "colab": {}
      },
      "source": [
        ""
      ],
      "execution_count": 0,
      "outputs": []
    },
    {
      "cell_type": "code",
      "metadata": {
        "id": "pxhPzz7Ip2U4",
        "colab_type": "code",
        "colab": {}
      },
      "source": [
        "### Define Covariates, treatments and responses \n",
        "# x= data_clean['feature']\n",
        "\n",
        "y=data_clean['response_visit']\n",
        "\n",
        "# treatment\n",
        "T= data_clean['treatment']"
      ],
      "execution_count": 0,
      "outputs": []
    },
    {
      "cell_type": "code",
      "metadata": {
        "id": "PN6CY9Kdp2Y9",
        "colab_type": "code",
        "colab": {}
      },
      "source": [
        ""
      ],
      "execution_count": 0,
      "outputs": []
    },
    {
      "cell_type": "code",
      "metadata": {
        "id": "egn3ApL3p2dQ",
        "colab_type": "code",
        "colab": {}
      },
      "source": [
        ""
      ],
      "execution_count": 0,
      "outputs": []
    },
    {
      "cell_type": "code",
      "metadata": {
        "id": "2TkAjzY1p2g_",
        "colab_type": "code",
        "colab": {}
      },
      "source": [
        ""
      ],
      "execution_count": 0,
      "outputs": []
    },
    {
      "cell_type": "code",
      "metadata": {
        "id": "TQF-Q4v3p2ke",
        "colab_type": "code",
        "colab": {}
      },
      "source": [
        ""
      ],
      "execution_count": 0,
      "outputs": []
    },
    {
      "cell_type": "code",
      "metadata": {
        "id": "ZYti1ruQp2oq",
        "colab_type": "code",
        "colab": {}
      },
      "source": [
        ""
      ],
      "execution_count": 0,
      "outputs": []
    },
    {
      "cell_type": "code",
      "metadata": {
        "id": "g3V-wc7zp2sC",
        "colab_type": "code",
        "colab": {}
      },
      "source": [
        ""
      ],
      "execution_count": 0,
      "outputs": []
    },
    {
      "cell_type": "code",
      "metadata": {
        "id": "AWGG5KDpp2wR",
        "colab_type": "code",
        "colab": {}
      },
      "source": [
        ""
      ],
      "execution_count": 0,
      "outputs": []
    },
    {
      "cell_type": "code",
      "metadata": {
        "id": "ZSBApyxMp2zs",
        "colab_type": "code",
        "colab": {}
      },
      "source": [
        ""
      ],
      "execution_count": 0,
      "outputs": []
    },
    {
      "cell_type": "code",
      "metadata": {
        "id": "0Rkx1_axp233",
        "colab_type": "code",
        "colab": {}
      },
      "source": [
        ""
      ],
      "execution_count": 0,
      "outputs": []
    },
    {
      "cell_type": "code",
      "metadata": {
        "id": "jDpdVaXEp27X",
        "colab_type": "code",
        "colab": {}
      },
      "source": [
        ""
      ],
      "execution_count": 0,
      "outputs": []
    },
    {
      "cell_type": "code",
      "metadata": {
        "id": "Sr8tHFJLp2_I",
        "colab_type": "code",
        "colab": {}
      },
      "source": [
        ""
      ],
      "execution_count": 0,
      "outputs": []
    },
    {
      "cell_type": "code",
      "metadata": {
        "id": "bxO_xfSAp3DY",
        "colab_type": "code",
        "colab": {}
      },
      "source": [
        ""
      ],
      "execution_count": 0,
      "outputs": []
    },
    {
      "cell_type": "code",
      "metadata": {
        "id": "lU2Z4wcwp3G6",
        "colab_type": "code",
        "colab": {}
      },
      "source": [
        ""
      ],
      "execution_count": 0,
      "outputs": []
    },
    {
      "cell_type": "code",
      "metadata": {
        "id": "sI-rz4gyp3LX",
        "colab_type": "code",
        "colab": {}
      },
      "source": [
        ""
      ],
      "execution_count": 0,
      "outputs": []
    },
    {
      "cell_type": "code",
      "metadata": {
        "id": "gvaGrml4p3O6",
        "colab_type": "code",
        "colab": {}
      },
      "source": [
        ""
      ],
      "execution_count": 0,
      "outputs": []
    },
    {
      "cell_type": "code",
      "metadata": {
        "id": "wkI-wKWgp3S7",
        "colab_type": "code",
        "colab": {}
      },
      "source": [
        ""
      ],
      "execution_count": 0,
      "outputs": []
    },
    {
      "cell_type": "code",
      "metadata": {
        "id": "nEnTVrOKp3WR",
        "colab_type": "code",
        "colab": {}
      },
      "source": [
        ""
      ],
      "execution_count": 0,
      "outputs": []
    },
    {
      "cell_type": "code",
      "metadata": {
        "id": "yVQehxhFp3aa",
        "colab_type": "code",
        "colab": {}
      },
      "source": [
        ""
      ],
      "execution_count": 0,
      "outputs": []
    },
    {
      "cell_type": "code",
      "metadata": {
        "id": "AMsu0RZgp3eL",
        "colab_type": "code",
        "colab": {}
      },
      "source": [
        ""
      ],
      "execution_count": 0,
      "outputs": []
    },
    {
      "cell_type": "code",
      "metadata": {
        "id": "pmXljkzhMXTi",
        "colab_type": "code",
        "colab": {}
      },
      "source": [
        ""
      ],
      "execution_count": 0,
      "outputs": []
    },
    {
      "cell_type": "code",
      "metadata": {
        "id": "ChnfPHEmMXXS",
        "colab_type": "code",
        "colab": {}
      },
      "source": [
        ""
      ],
      "execution_count": 0,
      "outputs": []
    },
    {
      "cell_type": "code",
      "metadata": {
        "id": "UZXt0q4KMXbj",
        "colab_type": "code",
        "colab": {}
      },
      "source": [
        ""
      ],
      "execution_count": 0,
      "outputs": []
    },
    {
      "cell_type": "code",
      "metadata": {
        "id": "3Zmza8oTMXfU",
        "colab_type": "code",
        "colab": {}
      },
      "source": [
        ""
      ],
      "execution_count": 0,
      "outputs": []
    }
  ]
}