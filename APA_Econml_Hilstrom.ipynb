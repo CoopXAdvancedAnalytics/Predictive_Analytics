{
  "nbformat": 4,
  "nbformat_minor": 0,
  "metadata": {
    "colab": {
      "name": "APA- Econml-Hilstrom.ipynb",
      "provenance": [],
      "collapsed_sections": [],
      "authorship_tag": "ABX9TyOwITsIKqc1CCcGFRoJrPXU",
      "include_colab_link": true
    },
    "kernelspec": {
      "name": "python3",
      "display_name": "Python 3"
    }
  },
  "cells": [
    {
      "cell_type": "markdown",
      "metadata": {
        "id": "view-in-github",
        "colab_type": "text"
      },
      "source": [
        "<a href=\"https://colab.research.google.com/github/Olesiewitch/Predictive_Analytics/blob/master/APA_Econml_Hilstrom.ipynb\" target=\"_parent\"><img src=\"https://colab.research.google.com/assets/colab-badge.svg\" alt=\"Open In Colab\"/></a>"
      ]
    },
    {
      "cell_type": "code",
      "metadata": {
        "id": "NSsR279TEpzg",
        "colab_type": "code",
        "colab": {
          "base_uri": "https://localhost:8080/",
          "height": 1000
        },
        "outputId": "2a3b1c37-7506-424c-9104-510ed20d4bee"
      },
      "source": [
        "# Main imports \n",
        "\n",
        "!pip install econml\n",
        "from econml.metalearners import TLearner, SLearner, XLearner, DomainAdaptationLearner\n",
        "from econml.dml import LinearDMLCateEstimator, ForestDMLCateEstimator\n",
        "from econml.cate_interpreter import SingleTreeCateInterpreter, SingleTreePolicyInterpreter\n",
        "\n",
        "import pandas as pd\n",
        "import numpy as np\n",
        "import seaborn as sns\n",
        "import matplotlib.pyplot as plt\n",
        "from sklearn.linear_model import LinearRegression\n",
        "from sklearn.ensemble import RandomForestClassifier, RandomForestRegressor, GradientBoostingRegressor\n",
        "from sklearn.model_selection import train_test_split\n",
        "\n",
        "%matplotlib inline \n",
        "\n",
        "dataurl='https://raw.githubusercontent.com/Olesiewitch/Predictive_Analytics/master/Kevin_Hillstrom_MineThatData_E-MailAnalytics_DataMiningChallenge_2008.03.20.csv'"
      ],
      "execution_count": 1,
      "outputs": [
        {
          "output_type": "stream",
          "text": [
            "Collecting econml\n",
            "\u001b[?25l  Downloading https://files.pythonhosted.org/packages/98/30/9b89a34fa81f2b591671a15fca844ef6f5d9764e2951ef9e30ad2967cdfa/econml-0.7.0-py3-none-any.whl (312kB)\n",
            "\u001b[K     |████████████████████████████████| 317kB 2.7MB/s \n",
            "\u001b[?25hRequirement already satisfied: pandas in /usr/local/lib/python3.6/dist-packages (from econml) (1.0.3)\n",
            "Requirement already satisfied: matplotlib; python_version > \"3.5\" in /usr/local/lib/python3.6/dist-packages (from econml) (3.2.1)\n",
            "Collecting sparse\n",
            "\u001b[?25l  Downloading https://files.pythonhosted.org/packages/3a/25/562a0cebb6fc36f16989469350ac96e9dbe2cc11dba0c22c34d0eff2f5dd/sparse-0.10.0-py2.py3-none-any.whl (64kB)\n",
            "\u001b[K     |████████████████████████████████| 71kB 6.3MB/s \n",
            "\u001b[?25hRequirement already satisfied: joblib>=0.13.0 in /usr/local/lib/python3.6/dist-packages (from econml) (0.15.1)\n",
            "Requirement already satisfied: keras in /usr/local/lib/python3.6/dist-packages (from econml) (2.3.1)\n",
            "Requirement already satisfied: graphviz in /usr/local/lib/python3.6/dist-packages (from econml) (0.10.1)\n",
            "Requirement already satisfied: numpy in /usr/local/lib/python3.6/dist-packages (from econml) (1.18.4)\n",
            "Requirement already satisfied: statsmodels>=0.9 in /usr/local/lib/python3.6/dist-packages (from econml) (0.10.2)\n",
            "Collecting scikit-learn~=0.21.0\n",
            "\u001b[?25l  Downloading https://files.pythonhosted.org/packages/a0/c5/d2238762d780dde84a20b8c761f563fe882b88c5a5fb03c056547c442a19/scikit_learn-0.21.3-cp36-cp36m-manylinux1_x86_64.whl (6.7MB)\n",
            "\u001b[K     |████████████████████████████████| 6.7MB 10.5MB/s \n",
            "\u001b[?25hRequirement already satisfied: scipy!=1.4.0 in /usr/local/lib/python3.6/dist-packages (from econml) (1.4.1)\n",
            "Collecting tensorflow==1.*\n",
            "\u001b[?25l  Downloading https://files.pythonhosted.org/packages/02/36/9a02e27f0ec248b676a380ffe910c1858e3af3027c0d4d513dd0b56a5613/tensorflow-1.15.3-cp36-cp36m-manylinux2010_x86_64.whl (110.5MB)\n",
            "\u001b[K     |████████████████████████████████| 110.5MB 45kB/s \n",
            "\u001b[?25hRequirement already satisfied: numba!=0.42.1 in /usr/local/lib/python3.6/dist-packages (from econml) (0.48.0)\n",
            "Requirement already satisfied: pytz>=2017.2 in /usr/local/lib/python3.6/dist-packages (from pandas->econml) (2018.9)\n",
            "Requirement already satisfied: python-dateutil>=2.6.1 in /usr/local/lib/python3.6/dist-packages (from pandas->econml) (2.8.1)\n",
            "Requirement already satisfied: cycler>=0.10 in /usr/local/lib/python3.6/dist-packages (from matplotlib; python_version > \"3.5\"->econml) (0.10.0)\n",
            "Requirement already satisfied: kiwisolver>=1.0.1 in /usr/local/lib/python3.6/dist-packages (from matplotlib; python_version > \"3.5\"->econml) (1.2.0)\n",
            "Requirement already satisfied: pyparsing!=2.0.4,!=2.1.2,!=2.1.6,>=2.0.1 in /usr/local/lib/python3.6/dist-packages (from matplotlib; python_version > \"3.5\"->econml) (2.4.7)\n",
            "Requirement already satisfied: six>=1.9.0 in /usr/local/lib/python3.6/dist-packages (from keras->econml) (1.12.0)\n",
            "Requirement already satisfied: keras-preprocessing>=1.0.5 in /usr/local/lib/python3.6/dist-packages (from keras->econml) (1.1.2)\n",
            "Requirement already satisfied: pyyaml in /usr/local/lib/python3.6/dist-packages (from keras->econml) (3.13)\n",
            "Requirement already satisfied: h5py in /usr/local/lib/python3.6/dist-packages (from keras->econml) (2.10.0)\n",
            "Requirement already satisfied: keras-applications>=1.0.6 in /usr/local/lib/python3.6/dist-packages (from keras->econml) (1.0.8)\n",
            "Requirement already satisfied: patsy>=0.4.0 in /usr/local/lib/python3.6/dist-packages (from statsmodels>=0.9->econml) (0.5.1)\n",
            "Requirement already satisfied: google-pasta>=0.1.6 in /usr/local/lib/python3.6/dist-packages (from tensorflow==1.*->econml) (0.2.0)\n",
            "Requirement already satisfied: absl-py>=0.7.0 in /usr/local/lib/python3.6/dist-packages (from tensorflow==1.*->econml) (0.9.0)\n",
            "Requirement already satisfied: termcolor>=1.1.0 in /usr/local/lib/python3.6/dist-packages (from tensorflow==1.*->econml) (1.1.0)\n",
            "Collecting tensorflow-estimator==1.15.1\n",
            "\u001b[?25l  Downloading https://files.pythonhosted.org/packages/de/62/2ee9cd74c9fa2fa450877847ba560b260f5d0fb70ee0595203082dafcc9d/tensorflow_estimator-1.15.1-py2.py3-none-any.whl (503kB)\n",
            "\u001b[K     |████████████████████████████████| 512kB 34.2MB/s \n",
            "\u001b[?25hCollecting tensorboard<1.16.0,>=1.15.0\n",
            "\u001b[?25l  Downloading https://files.pythonhosted.org/packages/1e/e9/d3d747a97f7188f48aa5eda486907f3b345cd409f0a0850468ba867db246/tensorboard-1.15.0-py3-none-any.whl (3.8MB)\n",
            "\u001b[K     |████████████████████████████████| 3.8MB 46.8MB/s \n",
            "\u001b[?25hCollecting gast==0.2.2\n",
            "  Downloading https://files.pythonhosted.org/packages/4e/35/11749bf99b2d4e3cceb4d55ca22590b0d7c2c62b9de38ac4a4a7f4687421/gast-0.2.2.tar.gz\n",
            "Requirement already satisfied: opt-einsum>=2.3.2 in /usr/local/lib/python3.6/dist-packages (from tensorflow==1.*->econml) (3.2.1)\n",
            "Requirement already satisfied: astor>=0.6.0 in /usr/local/lib/python3.6/dist-packages (from tensorflow==1.*->econml) (0.8.1)\n",
            "Requirement already satisfied: protobuf>=3.6.1 in /usr/local/lib/python3.6/dist-packages (from tensorflow==1.*->econml) (3.10.0)\n",
            "Requirement already satisfied: grpcio>=1.8.6 in /usr/local/lib/python3.6/dist-packages (from tensorflow==1.*->econml) (1.29.0)\n",
            "Requirement already satisfied: wheel>=0.26; python_version >= \"3\" in /usr/local/lib/python3.6/dist-packages (from tensorflow==1.*->econml) (0.34.2)\n",
            "Requirement already satisfied: wrapt>=1.11.1 in /usr/local/lib/python3.6/dist-packages (from tensorflow==1.*->econml) (1.12.1)\n",
            "Requirement already satisfied: setuptools in /usr/local/lib/python3.6/dist-packages (from numba!=0.42.1->econml) (46.3.0)\n",
            "Requirement already satisfied: llvmlite<0.32.0,>=0.31.0dev0 in /usr/local/lib/python3.6/dist-packages (from numba!=0.42.1->econml) (0.31.0)\n",
            "Requirement already satisfied: markdown>=2.6.8 in /usr/local/lib/python3.6/dist-packages (from tensorboard<1.16.0,>=1.15.0->tensorflow==1.*->econml) (3.2.2)\n",
            "Requirement already satisfied: werkzeug>=0.11.15 in /usr/local/lib/python3.6/dist-packages (from tensorboard<1.16.0,>=1.15.0->tensorflow==1.*->econml) (1.0.1)\n",
            "Requirement already satisfied: importlib-metadata; python_version < \"3.8\" in /usr/local/lib/python3.6/dist-packages (from markdown>=2.6.8->tensorboard<1.16.0,>=1.15.0->tensorflow==1.*->econml) (1.6.0)\n",
            "Requirement already satisfied: zipp>=0.5 in /usr/local/lib/python3.6/dist-packages (from importlib-metadata; python_version < \"3.8\"->markdown>=2.6.8->tensorboard<1.16.0,>=1.15.0->tensorflow==1.*->econml) (3.1.0)\n",
            "Building wheels for collected packages: gast\n",
            "  Building wheel for gast (setup.py) ... \u001b[?25l\u001b[?25hdone\n",
            "  Created wheel for gast: filename=gast-0.2.2-cp36-none-any.whl size=7540 sha256=2513dcc2d599c7e2737f861dd82742fb6773e58de269d649543b3ffcf6847751\n",
            "  Stored in directory: /root/.cache/pip/wheels/5c/2e/7e/a1d4d4fcebe6c381f378ce7743a3ced3699feb89bcfbdadadd\n",
            "Successfully built gast\n",
            "\u001b[31mERROR: tensorflow-probability 0.10.0 has requirement gast>=0.3.2, but you'll have gast 0.2.2 which is incompatible.\u001b[0m\n",
            "\u001b[31mERROR: sparse 0.10.0 has requirement numba>=0.49, but you'll have numba 0.48.0 which is incompatible.\u001b[0m\n",
            "Installing collected packages: sparse, scikit-learn, tensorflow-estimator, tensorboard, gast, tensorflow, econml\n",
            "  Found existing installation: scikit-learn 0.22.2.post1\n",
            "    Uninstalling scikit-learn-0.22.2.post1:\n",
            "      Successfully uninstalled scikit-learn-0.22.2.post1\n",
            "  Found existing installation: tensorflow-estimator 2.2.0\n",
            "    Uninstalling tensorflow-estimator-2.2.0:\n",
            "      Successfully uninstalled tensorflow-estimator-2.2.0\n",
            "  Found existing installation: tensorboard 2.2.1\n",
            "    Uninstalling tensorboard-2.2.1:\n",
            "      Successfully uninstalled tensorboard-2.2.1\n",
            "  Found existing installation: gast 0.3.3\n",
            "    Uninstalling gast-0.3.3:\n",
            "      Successfully uninstalled gast-0.3.3\n",
            "  Found existing installation: tensorflow 2.2.0\n",
            "    Uninstalling tensorflow-2.2.0:\n",
            "      Successfully uninstalled tensorflow-2.2.0\n",
            "Successfully installed econml-0.7.0 gast-0.2.2 scikit-learn-0.21.3 sparse-0.10.0 tensorboard-1.15.0 tensorflow-1.15.3 tensorflow-estimator-1.15.1\n"
          ],
          "name": "stdout"
        },
        {
          "output_type": "stream",
          "text": [
            "/usr/local/lib/python3.6/dist-packages/statsmodels/tools/_testing.py:19: FutureWarning: pandas.util.testing is deprecated. Use the functions in the public API at pandas.testing instead.\n",
            "  import pandas.util.testing as tm\n"
          ],
          "name": "stderr"
        }
      ]
    },
    {
      "cell_type": "code",
      "metadata": {
        "id": "0o23XCGJFW_a",
        "colab_type": "code",
        "colab": {}
      },
      "source": [
        "df=pd.read_csv(dataurl)"
      ],
      "execution_count": 0,
      "outputs": []
    },
    {
      "cell_type": "code",
      "metadata": {
        "id": "-jP1vGa9FXnL",
        "colab_type": "code",
        "colab": {}
      },
      "source": [
        "sns.set(style=\"whitegrid\")\n",
        "sns.set(rc={'figure.figsize':(15,5)})"
      ],
      "execution_count": 0,
      "outputs": []
    },
    {
      "cell_type": "code",
      "metadata": {
        "id": "omYTQ_nMFX32",
        "colab_type": "code",
        "colab": {
          "base_uri": "https://localhost:8080/",
          "height": 69
        },
        "outputId": "68b8b725-0d82-4aa0-847e-ee8b83a17006"
      },
      "source": [
        "df.keys()"
      ],
      "execution_count": 4,
      "outputs": [
        {
          "output_type": "execute_result",
          "data": {
            "text/plain": [
              "Index(['recency', 'history_segment', 'history', 'mens', 'womens', 'zip_code',\n",
              "       'newbie', 'channel', 'segment', 'visit', 'conversion', 'spend'],\n",
              "      dtype='object')"
            ]
          },
          "metadata": {
            "tags": []
          },
          "execution_count": 4
        }
      ]
    },
    {
      "cell_type": "code",
      "metadata": {
        "id": "0Np0y7HlFYEc",
        "colab_type": "code",
        "colab": {
          "base_uri": "https://localhost:8080/",
          "height": 202
        },
        "outputId": "9bf6b34d-c7c0-4fc0-c7ff-c4cc6e6505fb"
      },
      "source": [
        "df.head()"
      ],
      "execution_count": 5,
      "outputs": [
        {
          "output_type": "execute_result",
          "data": {
            "text/html": [
              "<div>\n",
              "<style scoped>\n",
              "    .dataframe tbody tr th:only-of-type {\n",
              "        vertical-align: middle;\n",
              "    }\n",
              "\n",
              "    .dataframe tbody tr th {\n",
              "        vertical-align: top;\n",
              "    }\n",
              "\n",
              "    .dataframe thead th {\n",
              "        text-align: right;\n",
              "    }\n",
              "</style>\n",
              "<table border=\"1\" class=\"dataframe\">\n",
              "  <thead>\n",
              "    <tr style=\"text-align: right;\">\n",
              "      <th></th>\n",
              "      <th>recency</th>\n",
              "      <th>history_segment</th>\n",
              "      <th>history</th>\n",
              "      <th>mens</th>\n",
              "      <th>womens</th>\n",
              "      <th>zip_code</th>\n",
              "      <th>newbie</th>\n",
              "      <th>channel</th>\n",
              "      <th>segment</th>\n",
              "      <th>visit</th>\n",
              "      <th>conversion</th>\n",
              "      <th>spend</th>\n",
              "    </tr>\n",
              "  </thead>\n",
              "  <tbody>\n",
              "    <tr>\n",
              "      <th>0</th>\n",
              "      <td>10</td>\n",
              "      <td>2) $100 - $200</td>\n",
              "      <td>142.44</td>\n",
              "      <td>1</td>\n",
              "      <td>0</td>\n",
              "      <td>Surburban</td>\n",
              "      <td>0</td>\n",
              "      <td>Phone</td>\n",
              "      <td>Womens E-Mail</td>\n",
              "      <td>0</td>\n",
              "      <td>0</td>\n",
              "      <td>0.0</td>\n",
              "    </tr>\n",
              "    <tr>\n",
              "      <th>1</th>\n",
              "      <td>6</td>\n",
              "      <td>3) $200 - $350</td>\n",
              "      <td>329.08</td>\n",
              "      <td>1</td>\n",
              "      <td>1</td>\n",
              "      <td>Rural</td>\n",
              "      <td>1</td>\n",
              "      <td>Web</td>\n",
              "      <td>No E-Mail</td>\n",
              "      <td>0</td>\n",
              "      <td>0</td>\n",
              "      <td>0.0</td>\n",
              "    </tr>\n",
              "    <tr>\n",
              "      <th>2</th>\n",
              "      <td>7</td>\n",
              "      <td>2) $100 - $200</td>\n",
              "      <td>180.65</td>\n",
              "      <td>0</td>\n",
              "      <td>1</td>\n",
              "      <td>Surburban</td>\n",
              "      <td>1</td>\n",
              "      <td>Web</td>\n",
              "      <td>Womens E-Mail</td>\n",
              "      <td>0</td>\n",
              "      <td>0</td>\n",
              "      <td>0.0</td>\n",
              "    </tr>\n",
              "    <tr>\n",
              "      <th>3</th>\n",
              "      <td>9</td>\n",
              "      <td>5) $500 - $750</td>\n",
              "      <td>675.83</td>\n",
              "      <td>1</td>\n",
              "      <td>0</td>\n",
              "      <td>Rural</td>\n",
              "      <td>1</td>\n",
              "      <td>Web</td>\n",
              "      <td>Mens E-Mail</td>\n",
              "      <td>0</td>\n",
              "      <td>0</td>\n",
              "      <td>0.0</td>\n",
              "    </tr>\n",
              "    <tr>\n",
              "      <th>4</th>\n",
              "      <td>2</td>\n",
              "      <td>1) $0 - $100</td>\n",
              "      <td>45.34</td>\n",
              "      <td>1</td>\n",
              "      <td>0</td>\n",
              "      <td>Urban</td>\n",
              "      <td>0</td>\n",
              "      <td>Web</td>\n",
              "      <td>Womens E-Mail</td>\n",
              "      <td>0</td>\n",
              "      <td>0</td>\n",
              "      <td>0.0</td>\n",
              "    </tr>\n",
              "  </tbody>\n",
              "</table>\n",
              "</div>"
            ],
            "text/plain": [
              "   recency history_segment  history  ...  visit  conversion spend\n",
              "0       10  2) $100 - $200   142.44  ...      0           0   0.0\n",
              "1        6  3) $200 - $350   329.08  ...      0           0   0.0\n",
              "2        7  2) $100 - $200   180.65  ...      0           0   0.0\n",
              "3        9  5) $500 - $750   675.83  ...      0           0   0.0\n",
              "4        2    1) $0 - $100    45.34  ...      0           0   0.0\n",
              "\n",
              "[5 rows x 12 columns]"
            ]
          },
          "metadata": {
            "tags": []
          },
          "execution_count": 5
        }
      ]
    },
    {
      "cell_type": "code",
      "metadata": {
        "id": "Ib2l45kdFYMT",
        "colab_type": "code",
        "colab": {
          "base_uri": "https://localhost:8080/",
          "height": 347
        },
        "outputId": "e1ef35fe-92d7-452c-c67d-1f0e0007f632"
      },
      "source": [
        "df.info()"
      ],
      "execution_count": 6,
      "outputs": [
        {
          "output_type": "stream",
          "text": [
            "<class 'pandas.core.frame.DataFrame'>\n",
            "RangeIndex: 64000 entries, 0 to 63999\n",
            "Data columns (total 12 columns):\n",
            " #   Column           Non-Null Count  Dtype  \n",
            "---  ------           --------------  -----  \n",
            " 0   recency          64000 non-null  int64  \n",
            " 1   history_segment  64000 non-null  object \n",
            " 2   history          64000 non-null  float64\n",
            " 3   mens             64000 non-null  int64  \n",
            " 4   womens           64000 non-null  int64  \n",
            " 5   zip_code         64000 non-null  object \n",
            " 6   newbie           64000 non-null  int64  \n",
            " 7   channel          64000 non-null  object \n",
            " 8   segment          64000 non-null  object \n",
            " 9   visit            64000 non-null  int64  \n",
            " 10  conversion       64000 non-null  int64  \n",
            " 11  spend            64000 non-null  float64\n",
            "dtypes: float64(2), int64(6), object(4)\n",
            "memory usage: 5.9+ MB\n"
          ],
          "name": "stdout"
        }
      ]
    },
    {
      "cell_type": "code",
      "metadata": {
        "id": "KaUyR08rFYR0",
        "colab_type": "code",
        "colab": {
          "base_uri": "https://localhost:8080/",
          "height": 121
        },
        "outputId": "54c9461e-2d69-415a-ff20-0b48ed4d19d4"
      },
      "source": [
        "df['segment'].head()"
      ],
      "execution_count": 10,
      "outputs": [
        {
          "output_type": "execute_result",
          "data": {
            "text/plain": [
              "0    Womens E-Mail\n",
              "1        No E-Mail\n",
              "2    Womens E-Mail\n",
              "3      Mens E-Mail\n",
              "4    Womens E-Mail\n",
              "Name: segment, dtype: object"
            ]
          },
          "metadata": {
            "tags": []
          },
          "execution_count": 10
        }
      ]
    },
    {
      "cell_type": "code",
      "metadata": {
        "id": "zRdKzCg6FYX1",
        "colab_type": "code",
        "colab": {}
      },
      "source": [
        "def generate_feature_repr(values):\n",
        "  feature_names = list(set(values))\n",
        "  feature_names.sort()\n",
        "  feature_values = []\n",
        "  for feature_name in feature_names:\n",
        "      value = values[values==feature_name].shape[0]\n",
        "      feature_values.append(value)\n",
        "  return pd.DataFrame(data={\n",
        "      'Name': feature_names,\n",
        "      'Value':feature_values\n",
        "  })"
      ],
      "execution_count": 0,
      "outputs": []
    },
    {
      "cell_type": "code",
      "metadata": {
        "id": "GA0NHoxdMWoG",
        "colab_type": "code",
        "colab": {
          "base_uri": "https://localhost:8080/",
          "height": 338
        },
        "outputId": "abb7c6d5-5c17-4fe0-e1e8-2a963cabf0ca"
      },
      "source": [
        "df_repr= generate_feature_repr(df['segment'])\n",
        "ax = sns.barplot(x='Name', y='Value', data=df_repr)\n",
        "ax.set(\n",
        "    xlabel='',\n",
        "    ylabel='Number of samples',\n",
        "    title='Number of samples for each treatment'\n",
        ");"
      ],
      "execution_count": 9,
      "outputs": [
        {
          "output_type": "display_data",
          "data": {
            "image/png": "[encoded data removed]",
            "text/plain": [
              "<Figure size 1080x360 with 1 Axes>"
            ]
          },
          "metadata": {
            "tags": []
          }
        }
      ]
    },
    {
      "cell_type": "code",
      "metadata": {
        "id": "dsGW_FpEMW7X",
        "colab_type": "code",
        "colab": {
          "base_uri": "https://localhost:8080/",
          "height": 35
        },
        "outputId": "43e85099-320a-42fd-959d-8a7b76242500"
      },
      "source": [
        "# Inspect Target Variable\n",
        "# Target variable -spend\n",
        "\n",
        "target=df['spend']\n",
        "non_zero = target[target !=0].shape[0]\n",
        "\n",
        "print(\"{}% - of samples actually spent\". format(100 * non_zero / target.shape[0]))\n"
      ],
      "execution_count": 10,
      "outputs": [
        {
          "output_type": "stream",
          "text": [
            "0.903125% - of samples actually spent\n"
          ],
          "name": "stdout"
        }
      ]
    },
    {
      "cell_type": "code",
      "metadata": {
        "id": "HkaB9AVaMXBI",
        "colab_type": "code",
        "colab": {
          "base_uri": "https://localhost:8080/",
          "height": 322
        },
        "outputId": "c7530138-23c8-4e9c-d33a-d9c48932d8d0"
      },
      "source": [
        "# TARGET VARIABLE- VISIT\n",
        "# 1/0 INDICATOR, 1 = Customer visited webiste in the following two weeks\n",
        "\n",
        "df_repr = generate_feature_repr(df['visit'].values)\n",
        "df_repr['Name'] = df_repr['Name'].apply(lambda x: 'Customer visited the website' if x else \n",
        "                                        \" Customer didn't visit the website\")\n",
        "ax= sns.barplot(x='Name', y='Value', data=df_repr)\n",
        "ax.set(xlabel='', ylabel='');\n"
      ],
      "execution_count": 11,
      "outputs": [
        {
          "output_type": "display_data",
          "data": {
            "image/png": "[encoded data removed]",
            "text/plain": [
              "<Figure size 1080x360 with 1 Axes>"
            ]
          },
          "metadata": {
            "tags": []
          }
        }
      ]
    },
    {
      "cell_type": "code",
      "metadata": {
        "id": "kUxBkJqmMXGk",
        "colab_type": "code",
        "colab": {
          "base_uri": "https://localhost:8080/",
          "height": 322
        },
        "outputId": "25dd6083-284d-4250-ffef-280d825efd90"
      },
      "source": [
        "#  Target Variable -Conversion:\n",
        "\n",
        "df_repr= generate_feature_repr(df['conversion'].values)\n",
        "df_repr['Name']=df_repr['Name'].apply(lambda x: 'Customer made purchase' if x else \"Customer didn't make purchase\")\n",
        "ax = sns.barplot(x='Name', y='Value', data=df_repr)\n",
        "ax.set(xlabel='', ylabel='');"
      ],
      "execution_count": 12,
      "outputs": [
        {
          "output_type": "display_data",
          "data": {
            "image/png": "[encoded data removed]",
            "text/plain": [
              "<Figure size 1080x360 with 1 Axes>"
            ]
          },
          "metadata": {
            "tags": []
          }
        }
      ]
    },
    {
      "cell_type": "code",
      "metadata": {
        "id": "b9fRAPJPMXK2",
        "colab_type": "code",
        "colab": {
          "base_uri": "https://localhost:8080/",
          "height": 325
        },
        "outputId": "e01b7d50-d581-40bd-e949-b21a8f07bb3b"
      },
      "source": [
        "# Inspect Features\n",
        "# Feature: History_segment\n",
        "\n",
        "df_repr = generate_feature_repr(df['history_segment'].values)\n",
        "ax=sns.barplot(x='Name', y='Value', data=df_repr)\n",
        "ax.set(xlabel='', ylabel='');"
      ],
      "execution_count": 13,
      "outputs": [
        {
          "output_type": "display_data",
          "data": {
            "image/png": "[encoded data removed]",
            "text/plain": [
              "<Figure size 1080x360 with 1 Axes>"
            ]
          },
          "metadata": {
            "tags": []
          }
        }
      ]
    },
    {
      "cell_type": "code",
      "metadata": {
        "id": "MSptL_oop1wz",
        "colab_type": "code",
        "colab": {
          "base_uri": "https://localhost:8080/",
          "height": 339
        },
        "outputId": "62f99a2c-76ef-4be0-bb28-7255b6a6f048"
      },
      "source": [
        "df_repr = generate_feature_repr(df['channel'].values)\n",
        "ax = sns.barplot(x='Name', y='Value', data=df_repr)\n",
        "ax.set(xlabel='ChanneY, T, X = generate_data(n, d, controls_outcome, treatment_effect, propensity)l', ylabel='Counts', title='');"
      ],
      "execution_count": 14,
      "outputs": [
        {
          "output_type": "display_data",
          "data": {
            "image/png": "[encoded data removed]",
            "text/plain": [
              "<Figure size 1080x360 with 1 Axes>"
            ]
          },
          "metadata": {
            "tags": []
          }
        }
      ]
    },
    {
      "cell_type": "code",
      "metadata": {
        "id": "CpD7ZtTPItVb",
        "colab_type": "code",
        "colab": {
          "base_uri": "https://localhost:8080/",
          "height": 121
        },
        "outputId": "28a4b11f-c8fc-44fa-d175-047764a27eca"
      },
      "source": [
        "df['history_segment'].head()"
      ],
      "execution_count": 15,
      "outputs": [
        {
          "output_type": "execute_result",
          "data": {
            "text/plain": [
              "0    2) $100 - $200\n",
              "1    3) $200 - $350\n",
              "2    2) $100 - $200\n",
              "3    5) $500 - $750\n",
              "4      1) $0 - $100\n",
              "Name: history_segment, dtype: object"
            ]
          },
          "metadata": {
            "tags": []
          },
          "execution_count": 15
        }
      ]
    },
    {
      "cell_type": "code",
      "metadata": {
        "id": "cLHK95a7ItaX",
        "colab_type": "code",
        "colab": {}
      },
      "source": [
        "# data cleaning\n",
        "\n",
        "df['history_segment'] = df['history_segment'].apply(lambda s: s.split(') ')[1])\n",
        "df['history_segment'] = df['history_segment'].astype(str)\n",
        "df['history_segment'] = [i.replace('$', '').replace(',', '').replace('-', '_').replace(' ', '') for i in df['history_segment']]\n"
      ],
      "execution_count": 0,
      "outputs": []
    },
    {
      "cell_type": "code",
      "metadata": {
        "id": "A0z-emHLItep",
        "colab_type": "code",
        "colab": {
          "base_uri": "https://localhost:8080/",
          "height": 202
        },
        "outputId": "d8039fc3-b248-4d62-f7ac-5ecc069b10c2"
      },
      "source": [
        "df.head()"
      ],
      "execution_count": 10,
      "outputs": [
        {
          "output_type": "execute_result",
          "data": {
            "text/html": [
              "<div>\n",
              "<style scoped>\n",
              "    .dataframe tbody tr th:only-of-type {\n",
              "        vertical-align: middle;\n",
              "    }\n",
              "\n",
              "    .dataframe tbody tr th {\n",
              "        vertical-align: top;\n",
              "    }\n",
              "\n",
              "    .dataframe thead th {\n",
              "        text-align: right;\n",
              "    }\n",
              "</style>\n",
              "<table border=\"1\" class=\"dataframe\">\n",
              "  <thead>\n",
              "    <tr style=\"text-align: right;\">\n",
              "      <th></th>\n",
              "      <th>recency</th>\n",
              "      <th>history_segment</th>\n",
              "      <th>history</th>\n",
              "      <th>mens</th>\n",
              "      <th>womens</th>\n",
              "      <th>zip_code</th>\n",
              "      <th>newbie</th>\n",
              "      <th>channel</th>\n",
              "      <th>segment</th>\n",
              "      <th>visit</th>\n",
              "      <th>conversion</th>\n",
              "      <th>spend</th>\n",
              "    </tr>\n",
              "  </thead>\n",
              "  <tbody>\n",
              "    <tr>\n",
              "      <th>0</th>\n",
              "      <td>10</td>\n",
              "      <td>100_200</td>\n",
              "      <td>142.44</td>\n",
              "      <td>1</td>\n",
              "      <td>0</td>\n",
              "      <td>Surburban</td>\n",
              "      <td>0</td>\n",
              "      <td>Phone</td>\n",
              "      <td>Womens E-Mail</td>\n",
              "      <td>0</td>\n",
              "      <td>0</td>\n",
              "      <td>0.0</td>\n",
              "    </tr>\n",
              "    <tr>\n",
              "      <th>1</th>\n",
              "      <td>6</td>\n",
              "      <td>200_350</td>\n",
              "      <td>329.08</td>\n",
              "      <td>1</td>\n",
              "      <td>1</td>\n",
              "      <td>Rural</td>\n",
              "      <td>1</td>\n",
              "      <td>Web</td>\n",
              "      <td>No E-Mail</td>\n",
              "      <td>0</td>\n",
              "      <td>0</td>\n",
              "      <td>0.0</td>\n",
              "    </tr>\n",
              "    <tr>\n",
              "      <th>2</th>\n",
              "      <td>7</td>\n",
              "      <td>100_200</td>\n",
              "      <td>180.65</td>\n",
              "      <td>0</td>\n",
              "      <td>1</td>\n",
              "      <td>Surburban</td>\n",
              "      <td>1</td>\n",
              "      <td>Web</td>\n",
              "      <td>Womens E-Mail</td>\n",
              "      <td>0</td>\n",
              "      <td>0</td>\n",
              "      <td>0.0</td>\n",
              "    </tr>\n",
              "    <tr>\n",
              "      <th>3</th>\n",
              "      <td>9</td>\n",
              "      <td>500_750</td>\n",
              "      <td>675.83</td>\n",
              "      <td>1</td>\n",
              "      <td>0</td>\n",
              "      <td>Rural</td>\n",
              "      <td>1</td>\n",
              "      <td>Web</td>\n",
              "      <td>Mens E-Mail</td>\n",
              "      <td>0</td>\n",
              "      <td>0</td>\n",
              "      <td>0.0</td>\n",
              "    </tr>\n",
              "    <tr>\n",
              "      <th>4</th>\n",
              "      <td>2</td>\n",
              "      <td>0_100</td>\n",
              "      <td>45.34</td>\n",
              "      <td>1</td>\n",
              "      <td>0</td>\n",
              "      <td>Urban</td>\n",
              "      <td>0</td>\n",
              "      <td>Web</td>\n",
              "      <td>Womens E-Mail</td>\n",
              "      <td>0</td>\n",
              "      <td>0</td>\n",
              "      <td>0.0</td>\n",
              "    </tr>\n",
              "  </tbody>\n",
              "</table>\n",
              "</div>"
            ],
            "text/plain": [
              "   recency history_segment  history  ...  visit  conversion spend\n",
              "0       10         100_200   142.44  ...      0           0   0.0\n",
              "1        6         200_350   329.08  ...      0           0   0.0\n",
              "2        7         100_200   180.65  ...      0           0   0.0\n",
              "3        9         500_750   675.83  ...      0           0   0.0\n",
              "4        2           0_100    45.34  ...      0           0   0.0\n",
              "\n",
              "[5 rows x 12 columns]"
            ]
          },
          "metadata": {
            "tags": []
          },
          "execution_count": 10
        }
      ]
    },
    {
      "cell_type": "code",
      "metadata": {
        "id": "MZEAd3a0ItjW",
        "colab_type": "code",
        "colab": {}
      },
      "source": [
        "# column types to numeric??\n",
        "\n",
        "# Rename columns \n",
        "df = df.rename(columns= {'segment' : 'Treatment'})\n",
        "\n",
        "# Create dummy columns\n",
        "dummy_cols = ['zip_code', 'history_segment', 'channel']\n",
        "for col in dummy_cols:\n",
        "  df = pd.get_dummies(df, columns=[col], prefix=col)\n",
        "\n",
        "# Encode the 'Treatment' Column\n",
        "\n",
        "treatment_encoder = {'No E-Mail': 0, 'Mens E-Mail': 1, 'Womens E-Mail': 2}\n",
        "df['Treatment'] = df['Treatment'].apply(lambda x: treatment_encoder[x])"
      ],
      "execution_count": 0,
      "outputs": []
    },
    {
      "cell_type": "code",
      "metadata": {
        "id": "JpyxXYiD1n0O",
        "colab_type": "code",
        "colab": {
          "base_uri": "https://localhost:8080/",
          "height": 35
        },
        "outputId": "cd1a4953-c9e8-4320-ec02-094cc4924fb0"
      },
      "source": [
        "df.shape"
      ],
      "execution_count": 18,
      "outputs": [
        {
          "output_type": "execute_result",
          "data": {
            "text/plain": [
              "(64000, 22)"
            ]
          },
          "metadata": {
            "tags": []
          },
          "execution_count": 18
        }
      ]
    },
    {
      "cell_type": "code",
      "metadata": {
        "id": "i01YG3jjyegP",
        "colab_type": "code",
        "colab": {
          "base_uri": "https://localhost:8080/",
          "height": 171
        },
        "outputId": "22883874-de6c-49bb-a733-d8e6aef202e9"
      },
      "source": [
        "pd.crosstab(df['visit'],df['Treatment'], margins= True)"
      ],
      "execution_count": 19,
      "outputs": [
        {
          "output_type": "execute_result",
          "data": {
            "text/html": [
              "<div>\n",
              "<style scoped>\n",
              "    .dataframe tbody tr th:only-of-type {\n",
              "        vertical-align: middle;\n",
              "    }\n",
              "\n",
              "    .dataframe tbody tr th {\n",
              "        vertical-align: top;\n",
              "    }\n",
              "\n",
              "    .dataframe thead th {\n",
              "        text-align: right;\n",
              "    }\n",
              "</style>\n",
              "<table border=\"1\" class=\"dataframe\">\n",
              "  <thead>\n",
              "    <tr style=\"text-align: right;\">\n",
              "      <th>Treatment</th>\n",
              "      <th>0</th>\n",
              "      <th>1</th>\n",
              "      <th>2</th>\n",
              "      <th>All</th>\n",
              "    </tr>\n",
              "    <tr>\n",
              "      <th>visit</th>\n",
              "      <th></th>\n",
              "      <th></th>\n",
              "      <th></th>\n",
              "      <th></th>\n",
              "    </tr>\n",
              "  </thead>\n",
              "  <tbody>\n",
              "    <tr>\n",
              "      <th>0</th>\n",
              "      <td>19044</td>\n",
              "      <td>17413</td>\n",
              "      <td>18149</td>\n",
              "      <td>54606</td>\n",
              "    </tr>\n",
              "    <tr>\n",
              "      <th>1</th>\n",
              "      <td>2262</td>\n",
              "      <td>3894</td>\n",
              "      <td>3238</td>\n",
              "      <td>9394</td>\n",
              "    </tr>\n",
              "    <tr>\n",
              "      <th>All</th>\n",
              "      <td>21306</td>\n",
              "      <td>21307</td>\n",
              "      <td>21387</td>\n",
              "      <td>64000</td>\n",
              "    </tr>\n",
              "  </tbody>\n",
              "</table>\n",
              "</div>"
            ],
            "text/plain": [
              "Treatment      0      1      2    All\n",
              "visit                                \n",
              "0          19044  17413  18149  54606\n",
              "1           2262   3894   3238   9394\n",
              "All        21306  21307  21387  64000"
            ]
          },
          "metadata": {
            "tags": []
          },
          "execution_count": 19
        }
      ]
    },
    {
      "cell_type": "code",
      "metadata": {
        "id": "uXBQWKATy5Hz",
        "colab_type": "code",
        "colab": {
          "base_uri": "https://localhost:8080/",
          "height": 233
        },
        "outputId": "ece11929-8a3b-41cd-c2b3-f6579d2ae6a8"
      },
      "source": [
        "df.pivot_table(values=['visit', 'conversion','spend'],\n",
        "               index = 'Treatment',\n",
        "               aggfunc=[np.mean],\n",
        "               margins = True)\n"
      ],
      "execution_count": 20,
      "outputs": [
        {
          "output_type": "execute_result",
          "data": {
            "text/html": [
              "<div>\n",
              "<style scoped>\n",
              "    .dataframe tbody tr th:only-of-type {\n",
              "        vertical-align: middle;\n",
              "    }\n",
              "\n",
              "    .dataframe tbody tr th {\n",
              "        vertical-align: top;\n",
              "    }\n",
              "\n",
              "    .dataframe thead tr th {\n",
              "        text-align: left;\n",
              "    }\n",
              "\n",
              "    .dataframe thead tr:last-of-type th {\n",
              "        text-align: right;\n",
              "    }\n",
              "</style>\n",
              "<table border=\"1\" class=\"dataframe\">\n",
              "  <thead>\n",
              "    <tr>\n",
              "      <th></th>\n",
              "      <th colspan=\"3\" halign=\"left\">mean</th>\n",
              "    </tr>\n",
              "    <tr>\n",
              "      <th></th>\n",
              "      <th>conversion</th>\n",
              "      <th>spend</th>\n",
              "      <th>visit</th>\n",
              "    </tr>\n",
              "    <tr>\n",
              "      <th>Treatment</th>\n",
              "      <th></th>\n",
              "      <th></th>\n",
              "      <th></th>\n",
              "    </tr>\n",
              "  </thead>\n",
              "  <tbody>\n",
              "    <tr>\n",
              "      <th>0</th>\n",
              "      <td>0.005726</td>\n",
              "      <td>0.652789</td>\n",
              "      <td>0.106167</td>\n",
              "    </tr>\n",
              "    <tr>\n",
              "      <th>1</th>\n",
              "      <td>0.012531</td>\n",
              "      <td>1.422617</td>\n",
              "      <td>0.182757</td>\n",
              "    </tr>\n",
              "    <tr>\n",
              "      <th>2</th>\n",
              "      <td>0.008837</td>\n",
              "      <td>1.077202</td>\n",
              "      <td>0.151400</td>\n",
              "    </tr>\n",
              "    <tr>\n",
              "      <th>All</th>\n",
              "      <td>0.009031</td>\n",
              "      <td>1.050908</td>\n",
              "      <td>0.146781</td>\n",
              "    </tr>\n",
              "  </tbody>\n",
              "</table>\n",
              "</div>"
            ],
            "text/plain": [
              "                mean                    \n",
              "          conversion     spend     visit\n",
              "Treatment                               \n",
              "0           0.005726  0.652789  0.106167\n",
              "1           0.012531  1.422617  0.182757\n",
              "2           0.008837  1.077202  0.151400\n",
              "All         0.009031  1.050908  0.146781"
            ]
          },
          "metadata": {
            "tags": []
          },
          "execution_count": 20
        }
      ]
    },
    {
      "cell_type": "code",
      "metadata": {
        "id": "b9ApA46Jy5Lk",
        "colab_type": "code",
        "colab": {
          "base_uri": "https://localhost:8080/",
          "height": 239
        },
        "outputId": "cea72de9-bbb0-467c-b0f8-fc0c66eebf2c"
      },
      "source": [
        "df.head()"
      ],
      "execution_count": 21,
      "outputs": [
        {
          "output_type": "execute_result",
          "data": {
            "text/html": [
              "<div>\n",
              "<style scoped>\n",
              "    .dataframe tbody tr th:only-of-type {\n",
              "        vertical-align: middle;\n",
              "    }\n",
              "\n",
              "    .dataframe tbody tr th {\n",
              "        vertical-align: top;\n",
              "    }\n",
              "\n",
              "    .dataframe thead th {\n",
              "        text-align: right;\n",
              "    }\n",
              "</style>\n",
              "<table border=\"1\" class=\"dataframe\">\n",
              "  <thead>\n",
              "    <tr style=\"text-align: right;\">\n",
              "      <th></th>\n",
              "      <th>recency</th>\n",
              "      <th>history</th>\n",
              "      <th>mens</th>\n",
              "      <th>womens</th>\n",
              "      <th>newbie</th>\n",
              "      <th>Treatment</th>\n",
              "      <th>visit</th>\n",
              "      <th>conversion</th>\n",
              "      <th>spend</th>\n",
              "      <th>zip_code_Rural</th>\n",
              "      <th>zip_code_Surburban</th>\n",
              "      <th>zip_code_Urban</th>\n",
              "      <th>history_segment_1) $0 - $100</th>\n",
              "      <th>history_segment_2) $100 - $200</th>\n",
              "      <th>history_segment_3) $200 - $350</th>\n",
              "      <th>history_segment_4) $350 - $500</th>\n",
              "      <th>history_segment_5) $500 - $750</th>\n",
              "      <th>history_segment_6) $750 - $1,000</th>\n",
              "      <th>history_segment_7) $1,000 +</th>\n",
              "      <th>channel_Multichannel</th>\n",
              "      <th>channel_Phone</th>\n",
              "      <th>channel_Web</th>\n",
              "    </tr>\n",
              "  </thead>\n",
              "  <tbody>\n",
              "    <tr>\n",
              "      <th>0</th>\n",
              "      <td>10</td>\n",
              "      <td>142.44</td>\n",
              "      <td>1</td>\n",
              "      <td>0</td>\n",
              "      <td>0</td>\n",
              "      <td>2</td>\n",
              "      <td>0</td>\n",
              "      <td>0</td>\n",
              "      <td>0.0</td>\n",
              "      <td>0</td>\n",
              "      <td>1</td>\n",
              "      <td>0</td>\n",
              "      <td>0</td>\n",
              "      <td>1</td>\n",
              "      <td>0</td>\n",
              "      <td>0</td>\n",
              "      <td>0</td>\n",
              "      <td>0</td>\n",
              "      <td>0</td>\n",
              "      <td>0</td>\n",
              "      <td>1</td>\n",
              "      <td>0</td>\n",
              "    </tr>\n",
              "    <tr>\n",
              "      <th>1</th>\n",
              "      <td>6</td>\n",
              "      <td>329.08</td>\n",
              "      <td>1</td>\n",
              "      <td>1</td>\n",
              "      <td>1</td>\n",
              "      <td>0</td>\n",
              "      <td>0</td>\n",
              "      <td>0</td>\n",
              "      <td>0.0</td>\n",
              "      <td>1</td>\n",
              "      <td>0</td>\n",
              "      <td>0</td>\n",
              "      <td>0</td>\n",
              "      <td>0</td>\n",
              "      <td>1</td>\n",
              "      <td>0</td>\n",
              "      <td>0</td>\n",
              "      <td>0</td>\n",
              "      <td>0</td>\n",
              "      <td>0</td>\n",
              "      <td>0</td>\n",
              "      <td>1</td>\n",
              "    </tr>\n",
              "    <tr>\n",
              "      <th>2</th>\n",
              "      <td>7</td>\n",
              "      <td>180.65</td>\n",
              "      <td>0</td>\n",
              "      <td>1</td>\n",
              "      <td>1</td>\n",
              "      <td>2</td>\n",
              "      <td>0</td>\n",
              "      <td>0</td>\n",
              "      <td>0.0</td>\n",
              "      <td>0</td>\n",
              "      <td>1</td>\n",
              "      <td>0</td>\n",
              "      <td>0</td>\n",
              "      <td>1</td>\n",
              "      <td>0</td>\n",
              "      <td>0</td>\n",
              "      <td>0</td>\n",
              "      <td>0</td>\n",
              "      <td>0</td>\n",
              "      <td>0</td>\n",
              "      <td>0</td>\n",
              "      <td>1</td>\n",
              "    </tr>\n",
              "    <tr>\n",
              "      <th>3</th>\n",
              "      <td>9</td>\n",
              "      <td>675.83</td>\n",
              "      <td>1</td>\n",
              "      <td>0</td>\n",
              "      <td>1</td>\n",
              "      <td>1</td>\n",
              "      <td>0</td>\n",
              "      <td>0</td>\n",
              "      <td>0.0</td>\n",
              "      <td>1</td>\n",
              "      <td>0</td>\n",
              "      <td>0</td>\n",
              "      <td>0</td>\n",
              "      <td>0</td>\n",
              "      <td>0</td>\n",
              "      <td>0</td>\n",
              "      <td>1</td>\n",
              "      <td>0</td>\n",
              "      <td>0</td>\n",
              "      <td>0</td>\n",
              "      <td>0</td>\n",
              "      <td>1</td>\n",
              "    </tr>\n",
              "    <tr>\n",
              "      <th>4</th>\n",
              "      <td>2</td>\n",
              "      <td>45.34</td>\n",
              "      <td>1</td>\n",
              "      <td>0</td>\n",
              "      <td>0</td>\n",
              "      <td>2</td>\n",
              "      <td>0</td>\n",
              "      <td>0</td>\n",
              "      <td>0.0</td>\n",
              "      <td>0</td>\n",
              "      <td>0</td>\n",
              "      <td>1</td>\n",
              "      <td>1</td>\n",
              "      <td>0</td>\n",
              "      <td>0</td>\n",
              "      <td>0</td>\n",
              "      <td>0</td>\n",
              "      <td>0</td>\n",
              "      <td>0</td>\n",
              "      <td>0</td>\n",
              "      <td>0</td>\n",
              "      <td>1</td>\n",
              "    </tr>\n",
              "  </tbody>\n",
              "</table>\n",
              "</div>"
            ],
            "text/plain": [
              "   recency  history  mens  ...  channel_Multichannel  channel_Phone  channel_Web\n",
              "0       10   142.44     1  ...                     0              1            0\n",
              "1        6   329.08     1  ...                     0              0            1\n",
              "2        7   180.65     0  ...                     0              0            1\n",
              "3        9   675.83     1  ...                     0              0            1\n",
              "4        2    45.34     1  ...                     0              0            1\n",
              "\n",
              "[5 rows x 22 columns]"
            ]
          },
          "metadata": {
            "tags": []
          },
          "execution_count": 21
        }
      ]
    },
    {
      "cell_type": "markdown",
      "metadata": {
        "id": "Rxi3TfVhy5Rz",
        "colab_type": "text"
      },
      "source": [
        ""
      ]
    },
    {
      "cell_type": "code",
      "metadata": {
        "id": "4rT1xVBFItx-",
        "colab_type": "code",
        "colab": {}
      },
      "source": [
        "# Normalize data\n",
        "\n",
        "normalization_fields = ['recency', 'history']\n",
        "df[normalization_fields] = (df[normalization_fields] - df[normalization_fields].mean()) / df[normalization_fields].std()"
      ],
      "execution_count": 0,
      "outputs": []
    },
    {
      "cell_type": "code",
      "metadata": {
        "id": "CGWaAOWX3y2b",
        "colab_type": "code",
        "colab": {
          "base_uri": "https://localhost:8080/",
          "height": 239
        },
        "outputId": "5f1ae76d-6348-42f1-a110-f895a59d626e"
      },
      "source": [
        "df.head()"
      ],
      "execution_count": 15,
      "outputs": [
        {
          "output_type": "execute_result",
          "data": {
            "text/html": [
              "<div>\n",
              "<style scoped>\n",
              "    .dataframe tbody tr th:only-of-type {\n",
              "        vertical-align: middle;\n",
              "    }\n",
              "\n",
              "    .dataframe tbody tr th {\n",
              "        vertical-align: top;\n",
              "    }\n",
              "\n",
              "    .dataframe thead th {\n",
              "        text-align: right;\n",
              "    }\n",
              "</style>\n",
              "<table border=\"1\" class=\"dataframe\">\n",
              "  <thead>\n",
              "    <tr style=\"text-align: right;\">\n",
              "      <th></th>\n",
              "      <th>recency</th>\n",
              "      <th>history</th>\n",
              "      <th>mens</th>\n",
              "      <th>womens</th>\n",
              "      <th>newbie</th>\n",
              "      <th>Treatment</th>\n",
              "      <th>visit</th>\n",
              "      <th>conversion</th>\n",
              "      <th>spend</th>\n",
              "      <th>zip_code_Rural</th>\n",
              "      <th>zip_code_Surburban</th>\n",
              "      <th>zip_code_Urban</th>\n",
              "      <th>history_segment_1) $0 - $100</th>\n",
              "      <th>history_segment_2) $100 - $200</th>\n",
              "      <th>history_segment_3) $200 - $350</th>\n",
              "      <th>history_segment_4) $350 - $500</th>\n",
              "      <th>history_segment_5) $500 - $750</th>\n",
              "      <th>history_segment_6) $750 - $1,000</th>\n",
              "      <th>history_segment_7) $1,000 +</th>\n",
              "      <th>channel_Multichannel</th>\n",
              "      <th>channel_Phone</th>\n",
              "      <th>channel_Web</th>\n",
              "    </tr>\n",
              "  </thead>\n",
              "  <tbody>\n",
              "    <tr>\n",
              "      <th>0</th>\n",
              "      <td>1.207742</td>\n",
              "      <td>-0.389000</td>\n",
              "      <td>1</td>\n",
              "      <td>0</td>\n",
              "      <td>0</td>\n",
              "      <td>2</td>\n",
              "      <td>0</td>\n",
              "      <td>0</td>\n",
              "      <td>0.0</td>\n",
              "      <td>0</td>\n",
              "      <td>1</td>\n",
              "      <td>0</td>\n",
              "      <td>0</td>\n",
              "      <td>1</td>\n",
              "      <td>0</td>\n",
              "      <td>0</td>\n",
              "      <td>0</td>\n",
              "      <td>0</td>\n",
              "      <td>0</td>\n",
              "      <td>0</td>\n",
              "      <td>1</td>\n",
              "      <td>0</td>\n",
              "    </tr>\n",
              "    <tr>\n",
              "      <th>1</th>\n",
              "      <td>0.067358</td>\n",
              "      <td>0.339611</td>\n",
              "      <td>1</td>\n",
              "      <td>1</td>\n",
              "      <td>1</td>\n",
              "      <td>0</td>\n",
              "      <td>0</td>\n",
              "      <td>0</td>\n",
              "      <td>0.0</td>\n",
              "      <td>1</td>\n",
              "      <td>0</td>\n",
              "      <td>0</td>\n",
              "      <td>0</td>\n",
              "      <td>0</td>\n",
              "      <td>1</td>\n",
              "      <td>0</td>\n",
              "      <td>0</td>\n",
              "      <td>0</td>\n",
              "      <td>0</td>\n",
              "      <td>0</td>\n",
              "      <td>0</td>\n",
              "      <td>1</td>\n",
              "    </tr>\n",
              "    <tr>\n",
              "      <th>2</th>\n",
              "      <td>0.352454</td>\n",
              "      <td>-0.239834</td>\n",
              "      <td>0</td>\n",
              "      <td>1</td>\n",
              "      <td>1</td>\n",
              "      <td>2</td>\n",
              "      <td>0</td>\n",
              "      <td>0</td>\n",
              "      <td>0.0</td>\n",
              "      <td>0</td>\n",
              "      <td>1</td>\n",
              "      <td>0</td>\n",
              "      <td>0</td>\n",
              "      <td>1</td>\n",
              "      <td>0</td>\n",
              "      <td>0</td>\n",
              "      <td>0</td>\n",
              "      <td>0</td>\n",
              "      <td>0</td>\n",
              "      <td>0</td>\n",
              "      <td>0</td>\n",
              "      <td>1</td>\n",
              "    </tr>\n",
              "    <tr>\n",
              "      <th>3</th>\n",
              "      <td>0.922646</td>\n",
              "      <td>1.693265</td>\n",
              "      <td>1</td>\n",
              "      <td>0</td>\n",
              "      <td>1</td>\n",
              "      <td>1</td>\n",
              "      <td>0</td>\n",
              "      <td>0</td>\n",
              "      <td>0.0</td>\n",
              "      <td>1</td>\n",
              "      <td>0</td>\n",
              "      <td>0</td>\n",
              "      <td>0</td>\n",
              "      <td>0</td>\n",
              "      <td>0</td>\n",
              "      <td>0</td>\n",
              "      <td>1</td>\n",
              "      <td>0</td>\n",
              "      <td>0</td>\n",
              "      <td>0</td>\n",
              "      <td>0</td>\n",
              "      <td>1</td>\n",
              "    </tr>\n",
              "    <tr>\n",
              "      <th>4</th>\n",
              "      <td>-1.073025</td>\n",
              "      <td>-0.768062</td>\n",
              "      <td>1</td>\n",
              "      <td>0</td>\n",
              "      <td>0</td>\n",
              "      <td>2</td>\n",
              "      <td>0</td>\n",
              "      <td>0</td>\n",
              "      <td>0.0</td>\n",
              "      <td>0</td>\n",
              "      <td>0</td>\n",
              "      <td>1</td>\n",
              "      <td>1</td>\n",
              "      <td>0</td>\n",
              "      <td>0</td>\n",
              "      <td>0</td>\n",
              "      <td>0</td>\n",
              "      <td>0</td>\n",
              "      <td>0</td>\n",
              "      <td>0</td>\n",
              "      <td>0</td>\n",
              "      <td>1</td>\n",
              "    </tr>\n",
              "  </tbody>\n",
              "</table>\n",
              "</div>"
            ],
            "text/plain": [
              "    recency   history  mens  ...  channel_Multichannel  channel_Phone  channel_Web\n",
              "0  1.207742 -0.389000     1  ...                     0              1            0\n",
              "1  0.067358  0.339611     1  ...                     0              0            1\n",
              "2  0.352454 -0.239834     0  ...                     0              0            1\n",
              "3  0.922646  1.693265     1  ...                     0              0            1\n",
              "4 -1.073025 -0.768062     1  ...                     0              0            1\n",
              "\n",
              "[5 rows x 22 columns]"
            ]
          },
          "metadata": {
            "tags": []
          },
          "execution_count": 15
        }
      ]
    },
    {
      "cell_type": "code",
      "metadata": {
        "id": "cy8YRNe3teFb",
        "colab_type": "code",
        "colab": {
          "base_uri": "https://localhost:8080/",
          "height": 35
        },
        "outputId": "5aafca1d-101f-4de9-b86b-582a11a1b3ee"
      },
      "source": [
        "# Define estimator inputs\n",
        "\n",
        "Y = df['visit'].values # outcome of interest\n",
        "T = df['Treatment'].values # treatment\n",
        "X = df.drop(columns=[\"visit\",\"Treatment\", \"conversion\", \"spend\"]).values  # features \n",
        "Y.shape\n"
      ],
      "execution_count": 58,
      "outputs": [
        {
          "output_type": "execute_result",
          "data": {
            "text/plain": [
              "(64000,)"
            ]
          },
          "metadata": {
            "tags": []
          },
          "execution_count": 58
        }
      ]
    },
    {
      "cell_type": "code",
      "metadata": {
        "id": "U1PP402RNINb",
        "colab_type": "code",
        "colab": {
          "base_uri": "https://localhost:8080/",
          "height": 35
        },
        "outputId": "55e76cc4-2448-4bf8-d3a4-03622e3fa433"
      },
      "source": [
        "# Data Preparation\n",
        "\n",
        "control_indexs = [i for i, e in enumerate(T) if e==0]\n",
        "men_indexs = [i for i, e in enumerate (T) if e==1]\n",
        "women_indexs = [i for i, e in enumerate (T) if e==2]\n",
        "\n",
        "len(control_indexs)"
      ],
      "execution_count": 35,
      "outputs": [
        {
          "output_type": "execute_result",
          "data": {
            "text/plain": [
              "21306"
            ]
          },
          "metadata": {
            "tags": []
          },
          "execution_count": 35
        }
      ]
    },
    {
      "cell_type": "code",
      "metadata": {
        "id": "J8puUKYTveO9",
        "colab_type": "code",
        "colab": {}
      },
      "source": [
        ""
      ],
      "execution_count": 0,
      "outputs": []
    },
    {
      "cell_type": "code",
      "metadata": {
        "id": "Ebn0HBCBrn6k",
        "colab_type": "code",
        "colab": {
          "base_uri": "https://localhost:8080/",
          "height": 35
        },
        "outputId": "64b96b1c-0bc6-438d-cac7-547d34c2eb9c"
      },
      "source": [
        "# Split the dataset into Control group and Women/Men campaign group\n",
        "X_control = X[control_indexs]\n",
        "Y_control = Y[control_indexs]\n",
        "T_control = T[control_indexs]\n",
        "\n",
        "X_women = X[women_indexs]\n",
        "Y_women = Y[women_indexs]\n",
        "T_women = T[women_indexs]\n",
        "\n",
        "X_women.shape\n",
        "\n",
        "X_men = X[men_indexs]\n",
        "Y_men = Y[men_indexs]\n",
        "T_men = T[men_indexs]\n",
        "\n",
        "X_men.shape\n",
        "\n",
        "\n"
      ],
      "execution_count": 63,
      "outputs": [
        {
          "output_type": "execute_result",
          "data": {
            "text/plain": [
              "(21307, 18)"
            ]
          },
          "metadata": {
            "tags": []
          },
          "execution_count": 63
        }
      ]
    },
    {
      "cell_type": "code",
      "metadata": {
        "id": "z9K3ToBKroHP",
        "colab_type": "code",
        "colab": {
          "base_uri": "https://localhost:8080/",
          "height": 35
        },
        "outputId": "8daa4eda-da9e-4c3b-9c22-0e1a8797a43f"
      },
      "source": [
        "X_split = np.append(X_control, X_men, axis=0)\n",
        "Y_split = np.append(Y_control, Y_men, axis =0)\n",
        "T_split = np.append(T_control, T_men, axis= 0)\n",
        "\n",
        "X_split.shape, Y_split.shape, T_split.shape\n"
      ],
      "execution_count": 64,
      "outputs": [
        {
          "output_type": "execute_result",
          "data": {
            "text/plain": [
              "((42613, 18), (42613,), (42613,))"
            ]
          },
          "metadata": {
            "tags": []
          },
          "execution_count": 64
        }
      ]
    },
    {
      "cell_type": "code",
      "metadata": {
        "id": "Sl8etrtlroNP",
        "colab_type": "code",
        "colab": {}
      },
      "source": [
        "X_train, X_test, Y_train, Y_test, T_train, T_test = train_test_split(X_split, Y_split, T_split, \n",
        "                                                                     test_size=0.3, random_state=2002, \n",
        "                                                                    )"
      ],
      "execution_count": 0,
      "outputs": []
    },
    {
      "cell_type": "code",
      "metadata": {
        "id": "cmAfwSUdzSUt",
        "colab_type": "code",
        "colab": {
          "base_uri": "https://localhost:8080/",
          "height": 35
        },
        "outputId": "d8d97603-7f48-4e72-82e2-eb3166a6be10"
      },
      "source": [
        "X_train.shape, X_test.shape, Y_train.shape, Y_test.shape, T_train.shape, T_test.shape"
      ],
      "execution_count": 70,
      "outputs": [
        {
          "output_type": "execute_result",
          "data": {
            "text/plain": [
              "((29829, 18), (12784, 18), (29829,), (12784,), (29829,), (12784,))"
            ]
          },
          "metadata": {
            "tags": []
          },
          "execution_count": 70
        }
      ]
    },
    {
      "cell_type": "code",
      "metadata": {
        "id": "X6wr1aOv6t9_",
        "colab_type": "code",
        "colab": {}
      },
      "source": [
        "from econml.dml import LinearDMLCateEstimator, ForestDMLCateEstimator, DMLCateEstimator\n",
        "from econml.cate_interpreter import SingleTreeCateInterpreter, SingleTreePolicyInterpreter\n",
        "from sklearn.linear_model import Lasso, LassoCV, LogisticRegression, LogisticRegressionCV, LinearRegression, MultiTaskElasticNet\n",
        "from sklearn.preprocessing import PolynomialFeatures\n",
        "from sklearn.ensemble import GradientBoostingRegressor"
      ],
      "execution_count": 0,
      "outputs": []
    },
    {
      "cell_type": "code",
      "metadata": {
        "id": "pBq2QkrVIuDq",
        "colab_type": "code",
        "colab": {}
      },
      "source": [
        "# Insatantiate T learner\n",
        "\n",
        "models = GradientBoostingRegressor(n_estimators = 100, max_depth = 6, min_samples_leaf = int(64000/100))\n",
        "T_learner = TLearner(models)\n",
        "# Train T learner\n",
        "T_learner.fit(Y_train,T_train,X_train)\n",
        "# Estimate treatment effect on test data\n",
        "T_te = T_learner.effect(X_test)"
      ],
      "execution_count": 0,
      "outputs": []
    },
    {
      "cell_type": "code",
      "metadata": {
        "id": "TSFnl0CtZKgh",
        "colab_type": "code",
        "colab": {}
      },
      "source": [
        "# Instantiate S learner\n",
        "\n",
        "overall_model = GradientBoostingRegressor(n_estimators=100, max_depth = 6, min_samples_leaf=int(64000/100))\n",
        "S_learner = SLearner(overall_model)\n",
        "\n",
        "#Train S learner\n",
        "S_learner.fit(Y_train,T_train,X_train)\n",
        "\n",
        "#Estimate treatment effects on test data\n",
        "S_te = S_learner.effect(X_test)\n"
      ],
      "execution_count": 0,
      "outputs": []
    },
    {
      "cell_type": "code",
      "metadata": {
        "id": "D_xkik-dvV5Y",
        "colab_type": "code",
        "colab": {}
      },
      "source": [
        "# Instantiate X learner\n",
        "models = GradientBoostingRegressor(n_estimators=100, max_depth=6, min_samples_leaf=int(64000/100))\n",
        "propensity_model = RandomForestClassifier(n_estimators=100, max_depth=6, \n",
        "                                                  min_samples_leaf=int(64000/100),\n",
        "                                                  class_weight='balanced_subsample')\n",
        "X_learner = XLearner(models=models, propensity_model=propensity_model)\n",
        "# Train X_learner\n",
        "X_learner.fit(Y_train, T_train, X_train)\n",
        "# Estimate treatment effects on test data\n",
        "X_te = X_learner.effect(X_test)"
      ],
      "execution_count": 0,
      "outputs": []
    },
    {
      "cell_type": "code",
      "metadata": {
        "id": "x4LN311Q0dqp",
        "colab_type": "code",
        "colab": {
          "base_uri": "https://localhost:8080/",
          "height": 52
        },
        "outputId": "adfbbfc1-b141-4ca5-9a7d-9150a69abd24"
      },
      "source": [
        "S_te\n",
        "\n"
      ],
      "execution_count": 75,
      "outputs": [
        {
          "output_type": "execute_result",
          "data": {
            "text/plain": [
              "array([0.09594667, 0.19151689, 0.05018051, ..., 0.08079108, 0.04796178,\n",
              "       0.09847399])"
            ]
          },
          "metadata": {
            "tags": []
          },
          "execution_count": 75
        }
      ]
    },
    {
      "cell_type": "code",
      "metadata": {
        "id": "LtIJLVUL1-sT",
        "colab_type": "code",
        "colab": {
          "base_uri": "https://localhost:8080/",
          "height": 52
        },
        "outputId": "1db89ea7-1f80-4865-da2a-a3c160925335"
      },
      "source": [
        "X_test[:,1]"
      ],
      "execution_count": 80,
      "outputs": [
        {
          "output_type": "execute_result",
          "data": {
            "text/plain": [
              "array([-0.40196055,  0.79081607, -0.82798567, ..., -0.59980672,\n",
              "       -0.82798567, -0.74850366])"
            ]
          },
          "metadata": {
            "tags": []
          },
          "execution_count": 80
        }
      ]
    },
    {
      "cell_type": "code",
      "metadata": {
        "id": "14pJBExJvV9g",
        "colab_type": "code",
        "colab": {
          "base_uri": "https://localhost:8080/",
          "height": 285
        },
        "outputId": "d04ea157-a021-40b5-da8c-42bb752afa12"
      },
      "source": [
        "### Comparison plot of the different learners\n",
        "plt.figure(figsize=(7, 4))\n",
        "\n",
        "plt.scatter(X_test[:, 1], T_te, label=\"T-learner\")\n",
        "plt.scatter(X_test[:, 1], S_te, label=\"S-learner\")\n",
        "plt.scatter(X_test[:, 1], X_te, label=\"X-learner\")\n",
        "plt.xlabel('$x_1$')\n",
        "plt.ylabel('Treatment Effect')\n",
        "plt.legend()\n",
        "plt.show()"
      ],
      "execution_count": 81,
      "outputs": [
        {
          "output_type": "display_data",
          "data": {
            "image/png": "[encoded data removed]",
            "text/plain": [
              "<Figure size 504x288 with 1 Axes>"
            ]
          },
          "metadata": {
            "tags": []
          }
        }
      ]
    },
    {
      "cell_type": "code",
      "metadata": {
        "id": "pycX-sknIuHv",
        "colab_type": "code",
        "colab": {}
      },
      "source": [
        ""
      ],
      "execution_count": 0,
      "outputs": []
    },
    {
      "cell_type": "code",
      "metadata": {
        "id": "InhrK7tMIuMc",
        "colab_type": "code",
        "colab": {}
      },
      "source": [
        ""
      ],
      "execution_count": 0,
      "outputs": []
    },
    {
      "cell_type": "code",
      "metadata": {
        "id": "egn3ApL3p2dQ",
        "colab_type": "code",
        "colab": {}
      },
      "source": [
        "####"
      ],
      "execution_count": 0,
      "outputs": []
    },
    {
      "cell_type": "code",
      "metadata": {
        "id": "TQF-Q4v3p2ke",
        "colab_type": "code",
        "colab": {}
      },
      "source": [
        ""
      ],
      "execution_count": 0,
      "outputs": []
    },
    {
      "cell_type": "code",
      "metadata": {
        "id": "ZYti1ruQp2oq",
        "colab_type": "code",
        "colab": {}
      },
      "source": [
        ""
      ],
      "execution_count": 0,
      "outputs": []
    },
    {
      "cell_type": "code",
      "metadata": {
        "id": "g3V-wc7zp2sC",
        "colab_type": "code",
        "colab": {}
      },
      "source": [
        ""
      ],
      "execution_count": 0,
      "outputs": []
    },
    {
      "cell_type": "code",
      "metadata": {
        "id": "AWGG5KDpp2wR",
        "colab_type": "code",
        "colab": {}
      },
      "source": [
        ""
      ],
      "execution_count": 0,
      "outputs": []
    },
    {
      "cell_type": "code",
      "metadata": {
        "id": "ZSBApyxMp2zs",
        "colab_type": "code",
        "colab": {}
      },
      "source": [
        ""
      ],
      "execution_count": 0,
      "outputs": []
    },
    {
      "cell_type": "code",
      "metadata": {
        "id": "0Rkx1_axp233",
        "colab_type": "code",
        "colab": {}
      },
      "source": [
        ""
      ],
      "execution_count": 0,
      "outputs": []
    },
    {
      "cell_type": "code",
      "metadata": {
        "id": "jDpdVaXEp27X",
        "colab_type": "code",
        "colab": {}
      },
      "source": [
        ""
      ],
      "execution_count": 0,
      "outputs": []
    },
    {
      "cell_type": "code",
      "metadata": {
        "id": "Sr8tHFJLp2_I",
        "colab_type": "code",
        "colab": {}
      },
      "source": [
        ""
      ],
      "execution_count": 0,
      "outputs": []
    },
    {
      "cell_type": "code",
      "metadata": {
        "id": "bxO_xfSAp3DY",
        "colab_type": "code",
        "colab": {}
      },
      "source": [
        ""
      ],
      "execution_count": 0,
      "outputs": []
    },
    {
      "cell_type": "code",
      "metadata": {
        "id": "lU2Z4wcwp3G6",
        "colab_type": "code",
        "colab": {}
      },
      "source": [
        ""
      ],
      "execution_count": 0,
      "outputs": []
    },
    {
      "cell_type": "code",
      "metadata": {
        "id": "sI-rz4gyp3LX",
        "colab_type": "code",
        "colab": {}
      },
      "source": [
        ""
      ],
      "execution_count": 0,
      "outputs": []
    },
    {
      "cell_type": "code",
      "metadata": {
        "id": "gvaGrml4p3O6",
        "colab_type": "code",
        "colab": {}
      },
      "source": [
        ""
      ],
      "execution_count": 0,
      "outputs": []
    },
    {
      "cell_type": "code",
      "metadata": {
        "id": "wkI-wKWgp3S7",
        "colab_type": "code",
        "colab": {}
      },
      "source": [
        ""
      ],
      "execution_count": 0,
      "outputs": []
    },
    {
      "cell_type": "code",
      "metadata": {
        "id": "nEnTVrOKp3WR",
        "colab_type": "code",
        "colab": {}
      },
      "source": [
        ""
      ],
      "execution_count": 0,
      "outputs": []
    },
    {
      "cell_type": "code",
      "metadata": {
        "id": "yVQehxhFp3aa",
        "colab_type": "code",
        "colab": {}
      },
      "source": [
        ""
      ],
      "execution_count": 0,
      "outputs": []
    },
    {
      "cell_type": "code",
      "metadata": {
        "id": "AMsu0RZgp3eL",
        "colab_type": "code",
        "colab": {}
      },
      "source": [
        ""
      ],
      "execution_count": 0,
      "outputs": []
    },
    {
      "cell_type": "code",
      "metadata": {
        "id": "pmXljkzhMXTi",
        "colab_type": "code",
        "colab": {}
      },
      "source": [
        ""
      ],
      "execution_count": 0,
      "outputs": []
    },
    {
      "cell_type": "code",
      "metadata": {
        "id": "ChnfPHEmMXXS",
        "colab_type": "code",
        "colab": {}
      },
      "source": [
        ""
      ],
      "execution_count": 0,
      "outputs": []
    },
    {
      "cell_type": "code",
      "metadata": {
        "id": "UZXt0q4KMXbj",
        "colab_type": "code",
        "colab": {}
      },
      "source": [
        ""
      ],
      "execution_count": 0,
      "outputs": []
    },
    {
      "cell_type": "code",
      "metadata": {
        "id": "3Zmza8oTMXfU",
        "colab_type": "code",
        "colab": {}
      },
      "source": [
        ""
      ],
      "execution_count": 0,
      "outputs": []
    }
  ]
}